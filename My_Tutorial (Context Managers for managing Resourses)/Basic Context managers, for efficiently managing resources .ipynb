{
 "cells": [
  {
   "cell_type": "markdown",
   "metadata": {},
   "source": [
    "# Basic Context Managers: Managing Resources Efficiently\n",
    "\n",
    "## Creator: Kuselo Ntsaluba\n",
    "\n",
    "This tutorial was made to show some useful ways to manage resources (directories, files, code etc.) as well as reducing boilerplate, which is the repetition of the same code in different places over and over again. It is both annoying, boring and increases the wear and tear of your keyboard.\n",
    "\n",
    "To start of with a 'testConMan.txt' file was created in the directory where this notebook file is located, consider two different ways of working with file objects:"
   ]
  },
  {
   "cell_type": "code",
   "execution_count": 1,
   "metadata": {},
   "outputs": [
    {
     "name": "stdout",
     "output_type": "stream",
     "text": [
      "w\n"
     ]
    }
   ],
   "source": [
    "#First method, if txt file does not exist it will automatically be created\n",
    "F = open('testConMan.txt', 'w') \n",
    "F.write('This is a ConMan tutorial')\n",
    "print(F.mode) #to show whether it is open for reading (r) or writting (w)\n",
    "F.close()"
   ]
  },
  {
   "cell_type": "markdown",
   "metadata": {},
   "source": [
    "Note that in the method above, the 'testConMan.txt' file was opened for writting purposes using the 'w' placed as a second parameter in the 'open()' command. Here we simply open the file, write to the file then close it. With this method it is important that you close the file after opening it else you will get an error.\n",
    "Now consider the second method to do exactly the same thing, but instead of writting we will simply be reading the content of the file:"
   ]
  },
  {
   "cell_type": "code",
   "execution_count": 26,
   "metadata": {},
   "outputs": [
    {
     "name": "stdout",
     "output_type": "stream",
     "text": [
      "This is a ConMan tutorial\n",
      "True\n"
     ]
    }
   ],
   "source": [
    "#Second method, using context manager\n",
    "with open('testConMan.txt', 'r') as F:\n",
    "    print(F.read())\n",
    "    \n",
    "print(F.closed)   "
   ]
  },
  {
   "cell_type": "markdown",
   "metadata": {},
   "source": [
    "The advantage of the second method over the first is that you don't have to worry about the 'close' command, since after the block of code is executed the file will automatically close. It will also close the file if any exceptions or anything of that nature is encountered, this is confirmed through the use of the last print statement returning 'True'. This is the recommended way of working with a file.\n",
    "\n",
    "This is also useful for connecting and closing databases properly as well as other uses. Here we will be using context managers to handle custom resources. \n",
    "\n",
    "### Further applications of Context mangers\n",
    "\n",
    "Writting a context manager can be done in two ways:\n",
    "1. Using Classes\n",
    "2. Using a function with a function decorator\n",
    "\n",
    "We will first be looking at how context managers can be used within a class scenario."
   ]
  },
  {
   "cell_type": "code",
   "execution_count": 27,
   "metadata": {},
   "outputs": [
    {
     "name": "stdout",
     "output_type": "stream",
     "text": [
      "This is a ConMan tutorial\n",
      "True\n"
     ]
    }
   ],
   "source": [
    "#creating context manager using a class\n",
    "class file_open():\n",
    "    def __init__(self, _filename, _mode):\n",
    "        self._filename = _filename\n",
    "        self._mode = _mode\n",
    "        \n",
    "    def __enter__(self):\n",
    "        self.file = open(self._filename, self._mode)\n",
    "        return self.file\n",
    "    \n",
    "    def __exit__(self, exc_type, exc_val, traceback):\n",
    "        self.file.close()\n",
    "        \n",
    "with file_open('testConMan.txt', 'r') as f:\n",
    "    print(f.read())\n",
    "    \n",
    "print(f.closed)    "
   ]
  },
  {
   "cell_type": "markdown",
   "metadata": {},
   "source": [
    "In the above class application of context manager, we have 'init' method that runs automatically when the class object is called, initializing the variables. The 'enter' and 'exit' methods are methods that will execute on set-up and teardown of the class object. The extra parameters in the 'exit' method (exc_type, exc_val and traceback) are there just incase program throws an exception, they can be used to access that information. Looking at the output, we see the context manager works as it should.\n",
    "The 'with' statement is important because it runs the code within the 'enter' method first after the 'init' method has been executed. The file is then opened within the 'enter' method and then returned to the block of code within the body of the with statement before the 'exit' method is executed on exit of the block.\n",
    "\n",
    "Now to do something similar to the above using a function, it can be done the following way:"
   ]
  },
  {
   "cell_type": "code",
   "execution_count": 28,
   "metadata": {},
   "outputs": [
    {
     "name": "stdout",
     "output_type": "stream",
     "text": [
      "This is a ConMan tutorial ,This is from contextmanager\n",
      "True\n"
     ]
    }
   ],
   "source": [
    "#creating context manager using contextlib\n",
    "from contextlib import contextmanager\n",
    "\n",
    "@contextmanager\n",
    "def file_open(_filename, _mode):\n",
    "    F = open(_filename, _mode)\n",
    "    yield F\n",
    "    F.close()\n",
    "\n",
    "\n",
    "with file_open('testConMan.txt', 'a') as F:\n",
    "    F.write(' ,This is from contextmanager')\n",
    "    \n",
    "with file_open('testConMan.txt', 'r') as F:\n",
    "    print(F.read())    \n",
    "\n",
    "print(F.closed)"
   ]
  },
  {
   "cell_type": "markdown",
   "metadata": {},
   "source": [
    "The above function does exactly the same thing that class does (in addition to adding to the file), except it uses a decorator to do it. Here the 'open()' is the set-up of the context manager, the 'yield' statement is when the code within the 'with' statement is going to run and 'close()' is similar to the 'exit' method from the class.\n",
    "However, the above isn't fully correct since we should be using the 'try' and 'finally' statements to handle errors which will be done next."
   ]
  },
  {
   "cell_type": "code",
   "execution_count": 30,
   "metadata": {},
   "outputs": [
    {
     "name": "stdout",
     "output_type": "stream",
     "text": [
      "This is a ConMan tutorial ,This is from contextmanager\n",
      "True\n"
     ]
    }
   ],
   "source": [
    "#try and finally blocks added\n",
    "from contextlib import contextmanager\n",
    "\n",
    "@contextmanager\n",
    "def file_open(_filename, _mode):\n",
    "    try:\n",
    "        F = open(_filename, _mode)\n",
    "        yield F\n",
    "    \n",
    "    finally:\n",
    "        F.close()\n",
    "\n",
    "\n",
    "with file_open('testConMan.txt', 'a') as F:\n",
    "    F.write(' ,This is from contextmanager')\n",
    "    \n",
    "with file_open('testConMan.txt', 'r') as F:\n",
    "    print(F.read())    \n",
    "\n",
    "print(F.closed)"
   ]
  },
  {
   "cell_type": "markdown",
   "metadata": {},
   "source": [
    "What the above addition to the code does is simply to insure that even if the code runs into an error the teardown code (the 'close()' statement) will execute in the 'finally' block.\n",
    "\n",
    "The above function however is not very practical, since 'open()' is already a context manager within python and everything that was done within the 'with' block can be done just using the 'open()' statement. But on the upside we have shown how to replicate the functionality of the 'open()' function using a class and a function.\n",
    "\n",
    "### Using Context Managers on directories\n",
    "\n",
    "Now consider a situation where we are using python to do work in a number of different directories and we are constantly using command 'cd' to move between these directories. Firstly, we have to create the directories where the files will be placed, then demonstrate how this would look without a Context Manager. "
   ]
  },
  {
   "cell_type": "code",
   "execution_count": 4,
   "metadata": {},
   "outputs": [
    {
     "name": "stdout",
     "output_type": "stream",
     "text": [
      "['test2.txt', 'test1.txt', 'test3.txt']\n",
      "['test5.txt', 'test4.txt', 'test6.txt']\n"
     ]
    }
   ],
   "source": [
    "from contextlib import contextmanager\n",
    "import os\n",
    "\n",
    "#creating the directories //////////////////////////////////////////////////////////////////////\n",
    "def createDir(_directory):\n",
    "    try:\n",
    "        if not os.path.exists(_directory): #checks if the directory already exists\n",
    "            os.makedirs(_directory)\n",
    "    except OSError:\n",
    "        print ('Error: Creating directory. ' +  _directory)\n",
    "        \n",
    "currentwd = os.getcwd() #get current working directory\n",
    "createDir('./test-dir-one/') # Creates folder in the current directory called test-dir-1\n",
    "os.chdir('test-dir-one') # Changes to directory called test-dir-1\n",
    "os.mknod(\"test1.txt\") #creates test1 file in the directory\n",
    "os.mknod(\"test2.txt\")\n",
    "os.mknod(\"test3.txt\")\n",
    "os.chdir(currentwd) #change back to original working directory\n",
    "\n",
    "currentwd = os.getcwd() \n",
    "createDir('./test-dir-two/') \n",
    "os.chdir('test-dir-two') \n",
    "os.mknod(\"test4.txt\") \n",
    "os.mknod(\"test5.txt\")\n",
    "os.mknod(\"test6.txt\")\n",
    "os.chdir(currentwd)\n",
    "\n",
    "#cd example code (in python) without context manager //////////////////////////////////////////// \n",
    "currentwd = os.getcwd()\n",
    "os.chdir('test-dir-one')\n",
    "print(os.listdir()) #lists content of directory\n",
    "os.chdir(currentwd)\n",
    "\n",
    "currentwd = os.getcwd()\n",
    "os.chdir('test-dir-two')\n",
    "print(os.listdir())\n",
    "os.chdir(currentwd)"
   ]
  },
  {
   "cell_type": "markdown",
   "metadata": {},
   "source": [
    "From the above code, we see from the results the contents of both 'test-dir-one' and 'test-dir-two' directories.\n",
    "The \"os\" library imported provides a way of using an operating system (MacOS, Ubuntu etc.) dependent on functionality. Therefore, the functions within the \"os\" library allow you to interface with the underlying operating system that your python version is running on. \n",
    "\n",
    "But as nice as the functions within the \"os\" library are the code is inconvenient. Reason being that we have to save our current directory, switch to another directory to do something then switch back to the orginal directory when we are done.\n",
    "This is a perfect candidate for a context manager, since the code used for switching directories is repetitive. We will do it using a function."
   ]
  },
  {
   "cell_type": "code",
   "execution_count": 6,
   "metadata": {},
   "outputs": [
    {
     "name": "stdout",
     "output_type": "stream",
     "text": [
      "['test2.txt', 'test1.txt', 'test3.txt']\n",
      "['test5.txt', 'test4.txt', 'test6.txt']\n"
     ]
    }
   ],
   "source": [
    "from contextlib import contextmanager\n",
    "import os\n",
    "\n",
    "#cd example code rewritten\n",
    "@contextmanager\n",
    "def change_directory(_destination):\n",
    "    try:\n",
    "        currentwd = os.getcwd()\n",
    "        os.chdir(_destination)\n",
    "        yield\n",
    "    finally:\n",
    "        os.chdir(currentwd)\n",
    "        \n",
    "with change_directory('test-dir-one'):\n",
    "    print(os.listdir())   \n",
    "    \n",
    "with change_directory('test-dir-two'):\n",
    "    print(os.listdir())    "
   ]
  },
  {
   "cell_type": "markdown",
   "metadata": {},
   "source": [
    "Note above 'yield' was used but previously we had 'yield F'. This is because in this function use of a context manage we are not working with any variables inside of our context manager (previously we worked with F using 'F.write()') and so we just use 'yield', where it will run whatever is inside the function body. You could have also printed the directory contains after creating them in the context manager above (will not be done here since it was already done previously). The advantage here is that you don't have to worry about the set-up of correct directory before doing what you want to do then the teardown to revert back to the directory you started in.\n",
    "\n",
    "Now finally we will do the above using a class...sorry this is an exercise to see if you have understood the concepts in this tutorial, GOODLUCK ;-)"
   ]
  },
  {
   "cell_type": "code",
   "execution_count": null,
   "metadata": {},
   "outputs": [],
   "source": [
    "##ANSWER HERE\n"
   ]
  },
  {
   "cell_type": "code",
   "execution_count": 7,
   "metadata": {},
   "outputs": [
    {
     "name": "stdout",
     "output_type": "stream",
     "text": [
      "['test2.txt', 'test1.txt', 'test3.txt']\n",
      "['test5.txt', 'test4.txt', 'test6.txt']\n"
     ]
    }
   ],
   "source": [
    "##Proposed solution, ATTEMPT BEFORE YOU LOOK AT THIS\n",
    "from contextlib import contextmanager\n",
    "import os\n",
    "\n",
    "#cd example code rewritten, class form\n",
    "class change_directory():\n",
    "    def __init__(self, _destination):\n",
    "        self._destination = _destination\n",
    "        \n",
    "    def __enter__(self):\n",
    "        self.currentwd = os.getcwd()\n",
    "        os.chdir(self._destination)\n",
    "    \n",
    "    def __exit__(self, exc_type, exc_val, traceback):\n",
    "        os.chdir(self.currentwd)\n",
    "        \n",
    "with change_directory('test-dir-one'):\n",
    "    print(os.listdir())\n",
    "    \n",
    "with change_directory('test-dir-two'):\n",
    "    print(os.listdir())    "
   ]
  }
 ],
 "metadata": {
  "kernelspec": {
   "display_name": "Python 3",
   "language": "python",
   "name": "python3"
  },
  "language_info": {
   "codemirror_mode": {
    "name": "ipython",
    "version": 3
   },
   "file_extension": ".py",
   "mimetype": "text/x-python",
   "name": "python",
   "nbconvert_exporter": "python",
   "pygments_lexer": "ipython3",
   "version": "3.6.5"
  }
 },
 "nbformat": 4,
 "nbformat_minor": 2
}
