{
 "cells": [
  {
   "cell_type": "markdown",
   "metadata": {},
   "source": [
    "# Tutorial 1\n",
    "\n",
    "In this tutorial, we'll cover the basics of Python. After this tutorial you should be able to:\n",
    "\n",
    "1. Understand features of different data types\n",
    "2. Understand and implement conditional logic\n",
    "3. Write basic functions\n",
    "4. Introduction to numpy and pandas\n",
    "\n",
    "### Jupyter notebooks\n",
    "\n",
    "Welcome to your first Jupyter notebook, an open-source web app that allows you to create documents with live text, code and visualizations. Jupyter notebooks allow us to embed code and execute this code directly in the notebook, by effectively giving us a Python terminal - try below"
   ]
  },
  {
   "cell_type": "code",
   "execution_count": 2,
   "metadata": {
    "scrolled": true
   },
   "outputs": [
    {
     "data": {
      "text/plain": [
       "4"
      ]
     },
     "execution_count": 2,
     "metadata": {},
     "output_type": "execute_result"
    }
   ],
   "source": [
    "2+2"
   ]
  },
  {
   "cell_type": "code",
   "execution_count": 4,
   "metadata": {},
   "outputs": [
    {
     "data": {
      "text/plain": [
       "'Hello World'"
      ]
     },
     "execution_count": 4,
     "metadata": {},
     "output_type": "execute_result"
    }
   ],
   "source": [
    "a = \"Hello \"\n",
    "b = \"World\"\n",
    "\n",
    "a+b"
   ]
  },
  {
   "cell_type": "markdown",
   "metadata": {},
   "source": [
    "## Python indentation\n",
    "\n",
    "The first thing you'll notice about Python is that indentation matters."
   ]
  },
  {
   "cell_type": "code",
   "execution_count": 61,
   "metadata": {
    "scrolled": true
   },
   "outputs": [
    {
     "ename": "IndentationError",
     "evalue": "unexpected indent (<ipython-input-61-635a605b55f9>, line 2)",
     "output_type": "error",
     "traceback": [
      "\u001b[0;36m  File \u001b[0;32m\"<ipython-input-61-635a605b55f9>\"\u001b[0;36m, line \u001b[0;32m2\u001b[0m\n\u001b[0;31m    b = 4\u001b[0m\n\u001b[0m    ^\u001b[0m\n\u001b[0;31mIndentationError\u001b[0m\u001b[0;31m:\u001b[0m unexpected indent\n"
     ]
    }
   ],
   "source": [
    "a = 5\n",
    "    b = 4"
   ]
  },
  {
   "cell_type": "markdown",
   "metadata": {},
   "source": [
    "You'll see this more prominently when we move onto conditional logic, functions and classes"
   ]
  },
  {
   "cell_type": "markdown",
   "metadata": {},
   "source": [
    "## Data types \n",
    "\n",
    "The first building block in Python we'll cover are data types. While you'll be familiar with all of the standard types, Python has some interesting data types you may not yet be familiar with. Let's cover the standard data types first\n",
    "\n",
    "### Integers"
   ]
  },
  {
   "cell_type": "code",
   "execution_count": 1,
   "metadata": {},
   "outputs": [
    {
     "data": {
      "text/plain": [
       "int"
      ]
     },
     "execution_count": 1,
     "metadata": {},
     "output_type": "execute_result"
    }
   ],
   "source": [
    "#Assignment\n",
    "\n",
    "a = 5\n",
    "type(a)"
   ]
  },
  {
   "cell_type": "code",
   "execution_count": 2,
   "metadata": {},
   "outputs": [
    {
     "data": {
      "text/plain": [
       "4"
      ]
     },
     "execution_count": 2,
     "metadata": {},
     "output_type": "execute_result"
    }
   ],
   "source": [
    "#Addition\n",
    "\n",
    "2+2"
   ]
  },
  {
   "cell_type": "code",
   "execution_count": 3,
   "metadata": {},
   "outputs": [
    {
     "data": {
      "text/plain": [
       "2"
      ]
     },
     "execution_count": 3,
     "metadata": {},
     "output_type": "execute_result"
    }
   ],
   "source": [
    "#Subtraction\n",
    "\n",
    "10-8"
   ]
  },
  {
   "cell_type": "code",
   "execution_count": 10,
   "metadata": {},
   "outputs": [
    {
     "data": {
      "text/plain": [
       "2.0"
      ]
     },
     "execution_count": 10,
     "metadata": {},
     "output_type": "execute_result"
    }
   ],
   "source": [
    "#Division\n",
    "\n",
    "4/2"
   ]
  },
  {
   "cell_type": "code",
   "execution_count": 11,
   "metadata": {},
   "outputs": [
    {
     "data": {
      "text/plain": [
       "6"
      ]
     },
     "execution_count": 11,
     "metadata": {},
     "output_type": "execute_result"
    }
   ],
   "source": [
    "#Multiplication\n",
    "\n",
    "2*3"
   ]
  },
  {
   "cell_type": "code",
   "execution_count": 12,
   "metadata": {},
   "outputs": [
    {
     "data": {
      "text/plain": [
       "3"
      ]
     },
     "execution_count": 12,
     "metadata": {},
     "output_type": "execute_result"
    }
   ],
   "source": [
    "# Modulo\n",
    "\n",
    "7%4"
   ]
  },
  {
   "cell_type": "code",
   "execution_count": 13,
   "metadata": {},
   "outputs": [
    {
     "data": {
      "text/plain": [
       "8"
      ]
     },
     "execution_count": 13,
     "metadata": {},
     "output_type": "execute_result"
    }
   ],
   "source": [
    "# Powers\n",
    "\n",
    "2**3"
   ]
  },
  {
   "cell_type": "code",
   "execution_count": 14,
   "metadata": {},
   "outputs": [
    {
     "data": {
      "text/plain": [
       "8"
      ]
     },
     "execution_count": 14,
     "metadata": {},
     "output_type": "execute_result"
    }
   ],
   "source": [
    "#Order of operation is observed\n",
    "\n",
    "2 + 3 * 2"
   ]
  },
  {
   "cell_type": "markdown",
   "metadata": {},
   "source": [
    "### Strings\n",
    "\n",
    "Strings can be denoted with either single or double quotes"
   ]
  },
  {
   "cell_type": "code",
   "execution_count": 15,
   "metadata": {},
   "outputs": [
    {
     "data": {
      "text/plain": [
       "'hello'"
      ]
     },
     "execution_count": 15,
     "metadata": {},
     "output_type": "execute_result"
    }
   ],
   "source": [
    "\"hello\""
   ]
  },
  {
   "cell_type": "code",
   "execution_count": 16,
   "metadata": {},
   "outputs": [
    {
     "data": {
      "text/plain": [
       "'hello'"
      ]
     },
     "execution_count": 16,
     "metadata": {},
     "output_type": "execute_result"
    }
   ],
   "source": [
    "'hello'"
   ]
  },
  {
   "cell_type": "markdown",
   "metadata": {},
   "source": [
    "Although, when you use apostrophes in your string, make sure you use double quotes"
   ]
  },
  {
   "cell_type": "code",
   "execution_count": 5,
   "metadata": {},
   "outputs": [
    {
     "ename": "SyntaxError",
     "evalue": "invalid syntax (<ipython-input-5-310882b62b11>, line 1)",
     "output_type": "error",
     "traceback": [
      "\u001b[0;36m  File \u001b[0;32m\"<ipython-input-5-310882b62b11>\"\u001b[0;36m, line \u001b[0;32m1\u001b[0m\n\u001b[0;31m    'Hello, I'm John'\u001b[0m\n\u001b[0m              ^\u001b[0m\n\u001b[0;31mSyntaxError\u001b[0m\u001b[0;31m:\u001b[0m invalid syntax\n"
     ]
    }
   ],
   "source": [
    "'Hello, I'm John'"
   ]
  },
  {
   "cell_type": "code",
   "execution_count": 7,
   "metadata": {},
   "outputs": [
    {
     "data": {
      "text/plain": [
       "\"Hello, I'm John\""
      ]
     },
     "execution_count": 7,
     "metadata": {},
     "output_type": "execute_result"
    }
   ],
   "source": [
    "\"Hello, I'm John\""
   ]
  },
  {
   "cell_type": "markdown",
   "metadata": {},
   "source": [
    "While simply typing a string and hiting enter in your notebook, the correct way to print a string involves using the print function - to see why, see what happens when we try and output multiple strings"
   ]
  },
  {
   "cell_type": "code",
   "execution_count": 8,
   "metadata": {},
   "outputs": [
    {
     "data": {
      "text/plain": [
       "\"I'm fine, thank you\""
      ]
     },
     "execution_count": 8,
     "metadata": {},
     "output_type": "execute_result"
    }
   ],
   "source": [
    "\"Hello\"\n",
    "\"How are you\"\n",
    "\"I'm fine, thank you\""
   ]
  },
  {
   "cell_type": "code",
   "execution_count": 11,
   "metadata": {},
   "outputs": [
    {
     "name": "stdout",
     "output_type": "stream",
     "text": [
      "Hello\n",
      "How are you\n",
      "I'm fine, thank you\n"
     ]
    }
   ],
   "source": [
    "print(\"Hello\")\n",
    "print(\"How are you\")\n",
    "print(\"I'm fine, thank you\")"
   ]
  },
  {
   "cell_type": "markdown",
   "metadata": {},
   "source": [
    "Another nice feature of strings is that we can index them to get specific characters. Note, Python starts indexing at 0"
   ]
  },
  {
   "cell_type": "code",
   "execution_count": 13,
   "metadata": {},
   "outputs": [
    {
     "name": "stdout",
     "output_type": "stream",
     "text": [
      "H\n",
      "W\n"
     ]
    }
   ],
   "source": [
    "a = \"Hello, World\"\n",
    "print(a[0])\n",
    "print(a[7])"
   ]
  },
  {
   "cell_type": "markdown",
   "metadata": {},
   "source": [
    "We can also make use of <code>:</code> to perform slicing, which extracts every character up to, or before a certain index position"
   ]
  },
  {
   "cell_type": "code",
   "execution_count": 14,
   "metadata": {},
   "outputs": [
    {
     "name": "stdout",
     "output_type": "stream",
     "text": [
      "ello, World\n",
      "Hello, \n"
     ]
    }
   ],
   "source": [
    "print(a[1:])\n",
    "print(a[:7])"
   ]
  },
  {
   "cell_type": "markdown",
   "metadata": {},
   "source": [
    "Also, Python let's us use negative indexing, particularly useful with long strings. Negative indexing starts at -1 "
   ]
  },
  {
   "cell_type": "code",
   "execution_count": 15,
   "metadata": {},
   "outputs": [
    {
     "name": "stdout",
     "output_type": "stream",
     "text": [
      "d\n"
     ]
    }
   ],
   "source": [
    "print(a[-1])"
   ]
  },
  {
   "cell_type": "markdown",
   "metadata": {},
   "source": [
    "Importantly, strings are *immutable* - this means once we create a string, we cannot alter it's content"
   ]
  },
  {
   "cell_type": "code",
   "execution_count": 16,
   "metadata": {},
   "outputs": [
    {
     "ename": "TypeError",
     "evalue": "'str' object does not support item assignment",
     "output_type": "error",
     "traceback": [
      "\u001b[0;31m---------------------------------------------------------------------------\u001b[0m",
      "\u001b[0;31mTypeError\u001b[0m                                 Traceback (most recent call last)",
      "\u001b[0;32m<ipython-input-16-9455496f2bd7>\u001b[0m in \u001b[0;36m<module>\u001b[0;34m()\u001b[0m\n\u001b[0;32m----> 1\u001b[0;31m \u001b[0ma\u001b[0m\u001b[0;34m[\u001b[0m\u001b[0;36m1\u001b[0m\u001b[0;34m]\u001b[0m \u001b[0;34m=\u001b[0m \u001b[0;34m'z'\u001b[0m\u001b[0;34m\u001b[0m\u001b[0m\n\u001b[0m",
      "\u001b[0;31mTypeError\u001b[0m: 'str' object does not support item assignment"
     ]
    }
   ],
   "source": [
    "a[1] = 'z'"
   ]
  },
  {
   "cell_type": "markdown",
   "metadata": {},
   "source": [
    "What strings do however allow us to do is concetenate different strings using addition. Note, that the addition command does not add in a space between the two strings."
   ]
  },
  {
   "cell_type": "code",
   "execution_count": 18,
   "metadata": {},
   "outputs": [
    {
     "name": "stdout",
     "output_type": "stream",
     "text": [
      "Hello, World,I've been concatenated\n",
      "Hello, World, I've been concatenated\n"
     ]
    }
   ],
   "source": [
    "print(a + \",I've been concatenated\")\n",
    "print(a + \", I've been concatenated\")"
   ]
  },
  {
   "cell_type": "markdown",
   "metadata": {},
   "source": [
    "One of the most useful features of strings is the ability to use the <code>%</code> operator to insert strings"
   ]
  },
  {
   "cell_type": "code",
   "execution_count": 19,
   "metadata": {},
   "outputs": [
    {
     "name": "stdout",
     "output_type": "stream",
     "text": [
      "Hello, my name is John, and I am from Cape Town\n"
     ]
    }
   ],
   "source": [
    "print(\"Hello, my name is %s, and I am from %s\" %('John','Cape Town'))"
   ]
  },
  {
   "cell_type": "markdown",
   "metadata": {},
   "source": [
    "All data types, or objects in Python, have certain methods which are available to them. Methods will become clearer when we move to the object oriented part of the course, but for now, think of them as functions that are available to specific data types. In this case, we'll look at some of the methods available to string variables. Also note how we implement these methods or functions - instead of what you may be used to, something like say <code>method(input)</code>, in Python we use <code>input.method()</code>. Again, the reason for this notation this will make more sense when we move to OOP."
   ]
  },
  {
   "cell_type": "code",
   "execution_count": 44,
   "metadata": {},
   "outputs": [
    {
     "name": "stdout",
     "output_type": "stream",
     "text": [
      "Hello, World\n"
     ]
    },
    {
     "ename": "NameError",
     "evalue": "name 'upper' is not defined",
     "output_type": "error",
     "traceback": [
      "\u001b[0;31m---------------------------------------------------------------------------\u001b[0m",
      "\u001b[0;31mNameError\u001b[0m                                 Traceback (most recent call last)",
      "\u001b[0;32m<ipython-input-44-24e78961051c>\u001b[0m in \u001b[0;36m<module>\u001b[0;34m()\u001b[0m\n\u001b[1;32m      6\u001b[0m \u001b[0mhello_world\u001b[0m\u001b[0;34m.\u001b[0m\u001b[0mupper\u001b[0m\u001b[0;34m(\u001b[0m\u001b[0;34m)\u001b[0m\u001b[0;34m\u001b[0m\u001b[0m\n\u001b[1;32m      7\u001b[0m \u001b[0;34m\u001b[0m\u001b[0m\n\u001b[0;32m----> 8\u001b[0;31m \u001b[0mhelp\u001b[0m\u001b[0;34m(\u001b[0m\u001b[0mupper\u001b[0m\u001b[0;34m(\u001b[0m\u001b[0;34m)\u001b[0m\u001b[0;34m)\u001b[0m\u001b[0;34m\u001b[0m\u001b[0m\n\u001b[0m",
      "\u001b[0;31mNameError\u001b[0m: name 'upper' is not defined"
     ]
    }
   ],
   "source": [
    "# Capitalize\n",
    "\n",
    "hello_world = \"Hello, World\"\n",
    "print(hello_world)\n",
    "\n",
    "hello_world.upper()"
   ]
  },
  {
   "cell_type": "code",
   "execution_count": 41,
   "metadata": {},
   "outputs": [
    {
     "data": {
      "text/plain": [
       "['Hello', 'how', 'are', 'you?']"
      ]
     },
     "execution_count": 41,
     "metadata": {},
     "output_type": "execute_result"
    }
   ],
   "source": [
    "# Split every word seperated by spaces in a sentence\n",
    "\n",
    "my_sentence = \"Hello how are you?\"\n",
    "my_sentence.split()"
   ]
  },
  {
   "cell_type": "markdown",
   "metadata": {},
   "source": [
    "### Booleans"
   ]
  },
  {
   "cell_type": "code",
   "execution_count": 21,
   "metadata": {},
   "outputs": [
    {
     "data": {
      "text/plain": [
       "bool"
      ]
     },
     "execution_count": 21,
     "metadata": {},
     "output_type": "execute_result"
    }
   ],
   "source": [
    "a = True\n",
    "b = False\n",
    "type(a)"
   ]
  },
  {
   "cell_type": "code",
   "execution_count": 84,
   "metadata": {},
   "outputs": [
    {
     "data": {
      "text/plain": [
       "True"
      ]
     },
     "execution_count": 84,
     "metadata": {},
     "output_type": "execute_result"
    }
   ],
   "source": [
    "10 > 5"
   ]
  },
  {
   "cell_type": "code",
   "execution_count": 87,
   "metadata": {},
   "outputs": [
    {
     "data": {
      "text/plain": [
       "False"
      ]
     },
     "execution_count": 87,
     "metadata": {},
     "output_type": "execute_result"
    }
   ],
   "source": [
    "len('abc') > len('abcd')"
   ]
  },
  {
   "cell_type": "markdown",
   "metadata": {},
   "source": [
    "### Lists\n",
    "\n",
    "Lists represent an ordered sequence or collection of items. Importantly, lists are mutable, which mean we can edit them. We assign lists using [ ]. Lists can store different data types and can store nested lists as well."
   ]
  },
  {
   "cell_type": "code",
   "execution_count": 23,
   "metadata": {},
   "outputs": [
    {
     "data": {
      "text/plain": [
       "1"
      ]
     },
     "execution_count": 23,
     "metadata": {},
     "output_type": "execute_result"
    }
   ],
   "source": [
    "myList = [1, 2, 3, 4]\n",
    "myList[0]"
   ]
  },
  {
   "cell_type": "code",
   "execution_count": 24,
   "metadata": {},
   "outputs": [
    {
     "data": {
      "text/plain": [
       "[5, 2, 3, 4]"
      ]
     },
     "execution_count": 24,
     "metadata": {},
     "output_type": "execute_result"
    }
   ],
   "source": [
    "#Mutability\n",
    "\n",
    "myList[0] = 5\n",
    "myList"
   ]
  },
  {
   "cell_type": "code",
   "execution_count": 25,
   "metadata": {},
   "outputs": [
    {
     "name": "stdout",
     "output_type": "stream",
     "text": [
      "[1, 2, 'hello']\n",
      "<class 'int'>\n",
      "<class 'str'>\n"
     ]
    }
   ],
   "source": [
    "#Importantly, lists can store different data types\n",
    "\n",
    "myNewList = [1, 2, \"hello\"]\n",
    "print(myNewList)\n",
    "print(type(myNewList[0]))\n",
    "print(type(myNewList[2]))"
   ]
  },
  {
   "cell_type": "code",
   "execution_count": 26,
   "metadata": {},
   "outputs": [
    {
     "name": "stdout",
     "output_type": "stream",
     "text": [
      "[[1, 2, 3], [4, 5, 6], [7, 8, 9]]\n",
      "[1, 2, 3]\n",
      "2\n"
     ]
    }
   ],
   "source": [
    "# Nested lists\n",
    "\n",
    "my_list1 = [1, 2, 3]\n",
    "my_list2 = [4, 5, 6]\n",
    "my_list3 = [7, 8, 9]\n",
    "\n",
    "my_list = [my_list1, my_list2, my_list3]\n",
    "\n",
    "print(my_list)\n",
    "\n",
    "print(my_list[0])\n",
    "\n",
    "print(my_list[0][1])"
   ]
  },
  {
   "cell_type": "markdown",
   "metadata": {},
   "source": [
    "### Tuples\n",
    "\n",
    "Similar to lists, tuples represent another way to store a collection of items. Unlike lists however, tuples are *immutable* meaning they can not be changed. We'll typically store data that is factual (no need to be changed) as tuples."
   ]
  },
  {
   "cell_type": "code",
   "execution_count": 27,
   "metadata": {},
   "outputs": [
    {
     "data": {
      "text/plain": [
       "1"
      ]
     },
     "execution_count": 27,
     "metadata": {},
     "output_type": "execute_result"
    }
   ],
   "source": [
    "myTuple = (1, 2, 3, 4)\n",
    "myTuple[0]"
   ]
  },
  {
   "cell_type": "code",
   "execution_count": 28,
   "metadata": {},
   "outputs": [
    {
     "ename": "TypeError",
     "evalue": "'tuple' object does not support item assignment",
     "output_type": "error",
     "traceback": [
      "\u001b[0;31m---------------------------------------------------------------------------\u001b[0m",
      "\u001b[0;31mTypeError\u001b[0m                                 Traceback (most recent call last)",
      "\u001b[0;32m<ipython-input-28-e2b1bedf7ba6>\u001b[0m in \u001b[0;36m<module>\u001b[0;34m()\u001b[0m\n\u001b[1;32m      1\u001b[0m \u001b[0;31m#Immutability\u001b[0m\u001b[0;34m\u001b[0m\u001b[0;34m\u001b[0m\u001b[0m\n\u001b[1;32m      2\u001b[0m \u001b[0;34m\u001b[0m\u001b[0m\n\u001b[0;32m----> 3\u001b[0;31m \u001b[0mmyTuple\u001b[0m\u001b[0;34m[\u001b[0m\u001b[0;36m0\u001b[0m\u001b[0;34m]\u001b[0m \u001b[0;34m=\u001b[0m \u001b[0;36m5\u001b[0m\u001b[0;34m\u001b[0m\u001b[0m\n\u001b[0m",
      "\u001b[0;31mTypeError\u001b[0m: 'tuple' object does not support item assignment"
     ]
    }
   ],
   "source": [
    "#Immutability\n",
    "\n",
    "myTuple[0] = 5 "
   ]
  },
  {
   "cell_type": "code",
   "execution_count": 29,
   "metadata": {},
   "outputs": [
    {
     "data": {
      "text/plain": [
       "(1, 2, 3, 4, 5, 6)"
      ]
     },
     "execution_count": 29,
     "metadata": {},
     "output_type": "execute_result"
    }
   ],
   "source": [
    "# We can however append tuples to tuples\n",
    "\n",
    "to_append = (5, 6)\n",
    "myTuple = myTuple + to_append\n",
    "myTuple"
   ]
  },
  {
   "cell_type": "markdown",
   "metadata": {},
   "source": [
    "### Sets\n",
    "\n",
    "Sets also store a collection of items. Unlike lists and tuples however, sets are *unordered* and only store *unique* elements"
   ]
  },
  {
   "cell_type": "code",
   "execution_count": 31,
   "metadata": {},
   "outputs": [
    {
     "ename": "TypeError",
     "evalue": "'set' object does not support indexing",
     "output_type": "error",
     "traceback": [
      "\u001b[0;31m---------------------------------------------------------------------------\u001b[0m",
      "\u001b[0;31mTypeError\u001b[0m                                 Traceback (most recent call last)",
      "\u001b[0;32m<ipython-input-31-8698e35e30e8>\u001b[0m in \u001b[0;36m<module>\u001b[0;34m()\u001b[0m\n\u001b[1;32m      1\u001b[0m \u001b[0mmy_set\u001b[0m \u001b[0;34m=\u001b[0m \u001b[0;34m{\u001b[0m\u001b[0;36m1\u001b[0m\u001b[0;34m,\u001b[0m\u001b[0;36m2\u001b[0m\u001b[0;34m,\u001b[0m\u001b[0;36m3\u001b[0m\u001b[0;34m}\u001b[0m\u001b[0;34m\u001b[0m\u001b[0m\n\u001b[1;32m      2\u001b[0m \u001b[0mmy_set\u001b[0m\u001b[0;34m\u001b[0m\u001b[0m\n\u001b[0;32m----> 3\u001b[0;31m \u001b[0mmy_set\u001b[0m\u001b[0;34m[\u001b[0m\u001b[0;36m0\u001b[0m\u001b[0;34m]\u001b[0m\u001b[0;34m\u001b[0m\u001b[0m\n\u001b[0m",
      "\u001b[0;31mTypeError\u001b[0m: 'set' object does not support indexing"
     ]
    }
   ],
   "source": [
    "my_set = {1,2,3}\n",
    "my_set\n",
    "my_set[0]"
   ]
  },
  {
   "cell_type": "code",
   "execution_count": 33,
   "metadata": {},
   "outputs": [],
   "source": [
    "# Tuples store unique elements\n",
    "\n",
    "my_list = [1,1,1,1,2,2,2,3,3,3]\n",
    "my_new_set = set(my_list)"
   ]
  },
  {
   "cell_type": "code",
   "execution_count": 82,
   "metadata": {
    "scrolled": true
   },
   "outputs": [
    {
     "ename": "TypeError",
     "evalue": "'set' object does not support indexing",
     "output_type": "error",
     "traceback": [
      "\u001b[0;31m---------------------------------------------------------------------------\u001b[0m",
      "\u001b[0;31mTypeError\u001b[0m                                 Traceback (most recent call last)",
      "\u001b[0;32m<ipython-input-82-879bd30b5dcf>\u001b[0m in \u001b[0;36m<module>\u001b[0;34m()\u001b[0m\n\u001b[1;32m      1\u001b[0m \u001b[0;31m# Since sets are unordered, they cannot be indexed\u001b[0m\u001b[0;34m\u001b[0m\u001b[0;34m\u001b[0m\u001b[0m\n\u001b[0;32m----> 2\u001b[0;31m \u001b[0mmy_new_set\u001b[0m\u001b[0;34m[\u001b[0m\u001b[0;36m0\u001b[0m\u001b[0;34m]\u001b[0m\u001b[0;34m\u001b[0m\u001b[0m\n\u001b[0m",
      "\u001b[0;31mTypeError\u001b[0m: 'set' object does not support indexing"
     ]
    }
   ],
   "source": [
    "# Since sets are unordered, they cannot be indexed\n",
    "\n",
    "my_new_set[0]"
   ]
  },
  {
   "cell_type": "markdown",
   "metadata": {},
   "source": [
    "### Dictionaries\n",
    "\n",
    "Unlike the previous data structures, dictionaries are less of a sequence and more of a mapping. Dictionaries store a collection of items by using a *key* as opposed to the index number or relative position. When we reference elements in a dictionary, we use the _key_ as opposed to the _index position_. As a result, dictionaries are unordered."
   ]
  },
  {
   "cell_type": "code",
   "execution_count": 52,
   "metadata": {},
   "outputs": [
    {
     "name": "stdout",
     "output_type": "stream",
     "text": [
      "value1\n"
     ]
    }
   ],
   "source": [
    "# We create a dictionary using {}\n",
    "# We then assign a key and a value pair, seperated by :\n",
    "\n",
    "my_dictionary = {'key1':'value1','key2':'value2'}\n",
    "\n",
    "# To call the first value, we index the key\n",
    "\n",
    "print(my_dictionary['key1'])"
   ]
  },
  {
   "cell_type": "code",
   "execution_count": 54,
   "metadata": {},
   "outputs": [
    {
     "name": "stdout",
     "output_type": "stream",
     "text": [
      "Buenos Aires\n",
      "Spanish\n"
     ]
    }
   ],
   "source": [
    "# Dicitonaries are useful, particularly when we have multiple dictionaries that have the same key\n",
    "\n",
    "capitals = {'Japan':'Tokyo', 'USA': 'Washington', 'Argentina': 'Buenos Aires'}\n",
    "\n",
    "print(capitals[\"Argentina\"])\n",
    "\n",
    "languages = {'Japan':'Japanese', 'USA': 'English', 'Argentina': 'Spanish'}\n",
    "\n",
    "print(languages[\"Argentina\"])"
   ]
  },
  {
   "cell_type": "code",
   "execution_count": 57,
   "metadata": {},
   "outputs": [
    {
     "name": "stdout",
     "output_type": "stream",
     "text": [
      "{'Japan': 'Tokyo', 'USA': 'Washington', 'Argentina': 'Buenos Aires', 'South Africa': ('Cape Town', 'Pretoria', 'Bloemfontein')}\n"
     ]
    }
   ],
   "source": [
    "# We can append items easily\n",
    "\n",
    "capitals['South Africa'] = ('Cape Town', 'Pretoria', 'Bloemfontein')\n",
    "print(capitals)"
   ]
  },
  {
   "cell_type": "markdown",
   "metadata": {},
   "source": [
    "### Conditional logic\n",
    "\n",
    "As with every programming languages, understanding conditional logic and how to implement it, is one the first steps in mastering the languages. Let's briefly cover how to implement the various types\n",
    "\n",
    "\n",
    "### If, elif and else\n",
    "\n",
    "The if, elif and else statements allows for the conditional execution of code  depending on one or more conditional\n",
    "expressions being met"
   ]
  },
  {
   "cell_type": "code",
   "execution_count": 1,
   "metadata": {},
   "outputs": [
    {
     "name": "stdout",
     "output_type": "stream",
     "text": [
      "Welcome John!\n"
     ]
    }
   ],
   "source": [
    "person = 'John'\n",
    "\n",
    "if person == 'Trevor':\n",
    "    print('Welcome Trevor!')\n",
    "elif person =='John':\n",
    "    print('Welcome John!')\n",
    "else:\n",
    "    print(\"Welcome, what's your name?\")"
   ]
  },
  {
   "cell_type": "code",
   "execution_count": 2,
   "metadata": {},
   "outputs": [
    {
     "name": "stdout",
     "output_type": "stream",
     "text": [
      "Welcome, what's your name?\n"
     ]
    }
   ],
   "source": [
    "person = 'Sally'\n",
    "\n",
    "if person == 'Trevor':\n",
    "    print('Welcome Trevor!')\n",
    "elif person =='John':\n",
    "    print('Welcome John!')\n",
    "else:\n",
    "    print(\"Welcome, what's your name?\")"
   ]
  },
  {
   "cell_type": "code",
   "execution_count": 3,
   "metadata": {},
   "outputs": [
    {
     "name": "stdout",
     "output_type": "stream",
     "text": [
      "Welcome, what's your name?\n"
     ]
    }
   ],
   "source": [
    "# Note how Python throws an error when we don't indent correctly\n",
    "\n",
    "person = 'Sally'\n",
    "\n",
    "if person == 'Trevor': # Note the :\n",
    "    print('Welcome Trevor!') # Incorrect indentation\n",
    "elif person =='John':\n",
    "    print('Welcome John!')\n",
    "else:\n",
    "    print(\"Welcome, what's your name?\")"
   ]
  },
  {
   "cell_type": "markdown",
   "metadata": {},
   "source": [
    "### For loops\n",
    "\n",
    "The for loop is used to repeat a collection of statements a fixed number of times"
   ]
  },
  {
   "cell_type": "code",
   "execution_count": 5,
   "metadata": {},
   "outputs": [
    {
     "name": "stdout",
     "output_type": "stream",
     "text": [
      "2\n",
      "4\n",
      "6\n",
      "8\n",
      "10\n"
     ]
    }
   ],
   "source": [
    "numbers_list = list(range(1,11)) # Note the notation - 1 to 11 means that we include numbers >= 1 and < 11\n",
    "\n",
    "for num in numbers_list:\n",
    "    if num % 2 == 0:\n",
    "        print(num)"
   ]
  },
  {
   "cell_type": "code",
   "execution_count": 22,
   "metadata": {},
   "outputs": [
    {
     "name": "stdout",
     "output_type": "stream",
     "text": [
      "55\n"
     ]
    }
   ],
   "source": [
    "#Using a for loop to sum or keep track of a counter\n",
    "\n",
    "sum_of_list = 0 \n",
    "\n",
    "for num in numbers_list:\n",
    "    sum_of_list += num\n",
    "\n",
    "print(sum_of_list)"
   ]
  },
  {
   "cell_type": "code",
   "execution_count": 7,
   "metadata": {},
   "outputs": [
    {
     "name": "stdout",
     "output_type": "stream",
     "text": [
      "(1, 2)\n",
      "(3, 4)\n",
      "(5, 6)\n",
      "(7, 8)\n"
     ]
    }
   ],
   "source": [
    "# Tuple unpacking with for loops\n",
    "\n",
    "my_tuple_list = [(1,2), (3,4), (5,6), (7,8)]\n",
    "\n",
    "for tup in my_tuple_list:\n",
    "    print(tup)"
   ]
  },
  {
   "cell_type": "code",
   "execution_count": 8,
   "metadata": {},
   "outputs": [
    {
     "name": "stdout",
     "output_type": "stream",
     "text": [
      "2\n",
      "4\n",
      "6\n",
      "8\n"
     ]
    }
   ],
   "source": [
    "# Using unpacking we can choose which element we want to print    \n",
    "\n",
    "for (1, tup2) in my_tuple_list:\n",
    "    print(tup2) my_list"
   ]
  },
  {
   "cell_type": "code",
   "execution_count": 36,
   "metadata": {},
   "outputs": [
    {
     "name": "stdout",
     "output_type": "stream",
     "text": [
      "Japan\n",
      "USA\n",
      "Argentina\n"
     ]
    }
   ],
   "source": [
    "# We can implement unpacking with dictionaries too to seperate values and keys\n",
    "\n",
    "capitals = {'Japan':'Tokyo', 'USA': 'Washington', 'Argentina': 'Buenos Aires'}\n",
    "\n",
    "for cap in capitals:\n",
    "    print(cap)"
   ]
  },
  {
   "cell_type": "code",
   "execution_count": 38,
   "metadata": {},
   "outputs": [
    {
     "name": "stdout",
     "output_type": "stream",
     "text": [
      "dict_items([('Japan', 'Tokyo'), ('USA', 'Washington'), ('Argentina', 'Buenos Aires')])\n",
      "Tokyo\n",
      "Washington\n",
      "Buenos Aires\n"
     ]
    }
   ],
   "source": [
    "# Since dictionary values can't be iterated over, we use the .items() method which creates a dictionary view object which is iterable\n",
    "\n",
    "print(capitals.items())"
   ]
  },
  {
   "cell_type": "code",
   "execution_count": 39,
   "metadata": {},
   "outputs": [
    {
     "name": "stdout",
     "output_type": "stream",
     "text": [
      "Tokyo\n",
      "Washington\n",
      "Buenos Aires\n"
     ]
    }
   ],
   "source": [
    "for (cap_key, cap_val) in capitals.items():\n",
    "    print(cap_val)"
   ]
  },
  {
   "cell_type": "markdown",
   "metadata": {},
   "source": [
    "### While loops\n",
    "\n",
    "The while loop is a construct that repeats statements while a condition remains true. It is used to repeat a\n",
    "collection of statements a variable number of times"
   ]
  },
  {
   "cell_type": "code",
   "execution_count": 41,
   "metadata": {},
   "outputs": [
    {
     "name": "stdout",
     "output_type": "stream",
     "text": [
      "sum_of_series is currently:  0\n",
      "sum_of_series is currently:  1\n",
      "sum_of_series is currently:  2\n",
      "sum_of_series is currently:  3\n",
      "sum_of_series is currently:  4\n",
      "sum_of_series is currently:  5\n",
      "sum_of_series is currently:  6\n",
      "sum_of_series is currently:  7\n",
      "sum_of_series is currently:  8\n",
      "sum_of_series is currently:  9\n"
     ]
    }
   ],
   "source": [
    "sum_of_series = 0\n",
    "\n",
    "while sum_of_series < 10:\n",
    "    print('sum_of_series is currently: ', sum_of_series)\n",
    "    sum_of_series+=1    "
   ]
  },
  {
   "cell_type": "code",
   "execution_count": 42,
   "metadata": {},
   "outputs": [
    {
     "name": "stdout",
     "output_type": "stream",
     "text": [
      "sum_of_series is currently:  0\n",
      "sum_of_series is currently:  1\n",
      "sum_of_series is currently:  2\n",
      "sum_of_series is currently:  3\n",
      "sum_of_series is currently:  4\n",
      "sum_of_series is currently:  5\n",
      "sum_of_series is currently:  6\n",
      "sum_of_series is currently:  7\n",
      "sum_of_series is currently:  8\n",
      "sum_of_series is currently:  9\n",
      "Finished!\n"
     ]
    }
   ],
   "source": [
    "# We can also make use of the else statement with a while to execute something when the while has terminated\n",
    "\n",
    "sum_of_series = 0\n",
    "\n",
    "while sum_of_series < 10:\n",
    "    print('sum_of_series is currently: ', sum_of_series)\n",
    "    sum_of_series+=1    \n",
    "\n",
    "else:\n",
    "    print('Finished!')"
   ]
  },
  {
   "cell_type": "markdown",
   "metadata": {},
   "source": [
    "Another important feature of while loops is the ability to incorporate the <code>break</code>, <code>continue</code> and <code>pass</code> statements\n",
    "\n",
    "* break: exit out of the current closest loop\n",
    "* continue: go to the top of the closest loop\n",
    "* pass: do nothing\n",
    "\n",
    "\n",
    "Typically, we'll use one of these statements with an <code>if</code> statement to execute the action conditonally"
   ]
  },
  {
   "cell_type": "code",
   "execution_count": 11,
   "metadata": {},
   "outputs": [
    {
     "name": "stdout",
     "output_type": "stream",
     "text": [
      "sum_of_series is currently:  0\n",
      "Not yet 5\n",
      "sum_of_series is currently:  1\n",
      "Not yet 5\n",
      "sum_of_series is currently:  2\n",
      "Not yet 5\n",
      "sum_of_series is currently:  3\n",
      "Not yet 5\n",
      "sum_of_series is currently:  4\n",
      "Reached 5\n"
     ]
    }
   ],
   "source": [
    "sum_of_series = 0\n",
    "\n",
    "while sum_of_series < 10:\n",
    "    print('sum_of_series is currently: ', sum_of_series)\n",
    "    sum_of_series+=1   \n",
    "    if sum_of_series == 5:\n",
    "        print('Reached 5')\n",
    "        break\n",
    "    else:\n",
    "        print('Not yet 5')"
   ]
  },
  {
   "cell_type": "code",
   "execution_count": 12,
   "metadata": {},
   "outputs": [
    {
     "ename": "SyntaxError",
     "evalue": "invalid syntax (<ipython-input-12-0be0eaa72393>, line 1)",
     "output_type": "error",
     "traceback": [
      "\u001b[0;36m  File \u001b[0;32m\"<ipython-input-12-0be0eaa72393>\"\u001b[0;36m, line \u001b[0;32m1\u001b[0m\n\u001b[0;31m    if:\u001b[0m\n\u001b[0m      ^\u001b[0m\n\u001b[0;31mSyntaxError\u001b[0m\u001b[0;31m:\u001b[0m invalid syntax\n"
     ]
    }
   ],
   "source": []
  },
  {
   "cell_type": "markdown",
   "metadata": {},
   "source": [
    "## Functions\n",
    "\n",
    "A function is a way to group together code that can be called and run more than once, which can accept parameters/arguments that can be used as inputs. A function's primary purpose is to prevent us from writing repetitive code. \n",
    "\n",
    "Functions all have the following structure"
   ]
  },
  {
   "cell_type": "code",
   "execution_count": 15,
   "metadata": {},
   "outputs": [],
   "source": [
    "def name_of_func(arg1,arg2):\n",
    "    pass"
   ]
  },
  {
   "cell_type": "code",
   "execution_count": 17,
   "metadata": {},
   "outputs": [
    {
     "ename": "TypeError",
     "evalue": "bark() missing 1 required positional argument: 'name'",
     "output_type": "error",
     "traceback": [
      "\u001b[0;31m---------------------------------------------------------------------------\u001b[0m",
      "\u001b[0;31mTypeError\u001b[0m                                 Traceback (most recent call last)",
      "\u001b[0;32m<ipython-input-17-a6946cd65b26>\u001b[0m in \u001b[0;36m<module>\u001b[0;34m()\u001b[0m\n\u001b[1;32m      3\u001b[0m     \u001b[0mprint\u001b[0m\u001b[0;34m(\u001b[0m\u001b[0;34m'Woof! I am '\u001b[0m \u001b[0;34m+\u001b[0m \u001b[0mname\u001b[0m\u001b[0;34m)\u001b[0m\u001b[0;34m\u001b[0m\u001b[0m\n\u001b[1;32m      4\u001b[0m \u001b[0;34m\u001b[0m\u001b[0m\n\u001b[0;32m----> 5\u001b[0;31m \u001b[0mbark\u001b[0m\u001b[0;34m(\u001b[0m\u001b[0;34m)\u001b[0m\u001b[0;34m\u001b[0m\u001b[0m\n\u001b[0m",
      "\u001b[0;31mTypeError\u001b[0m: bark() missing 1 required positional argument: 'name'"
     ]
    }
   ],
   "source": [
    "def bark(name):\n",
    "    \n",
    "    print('Woof! I am ' + name)\n",
    "\n",
    "bark()"
   ]
  },
  {
   "cell_type": "markdown",
   "metadata": {},
   "source": [
    "Importantly, when we want the function to return something that we intend to store as a variable as opposed to an action, we have to use the <code>return</code> statement"
   ]
  },
  {
   "cell_type": "code",
   "execution_count": 22,
   "metadata": {},
   "outputs": [
    {
     "name": "stdout",
     "output_type": "stream",
     "text": [
      "None\n",
      "4\n"
     ]
    }
   ],
   "source": [
    "def square_me(num):\n",
    "    \n",
    "    result = num**2\n",
    "\n",
    "res1 = square_me(2)\n",
    "print(res1)\n",
    "\n",
    "# Note what the return does here\n",
    "\n",
    "def square_me(num):\n",
    "    \n",
    "    result = num**2\n",
    "    return result\n",
    "\n",
    "res2 = square_me(2)\n",
    "print(res2)"
   ]
  },
  {
   "cell_type": "markdown",
   "metadata": {},
   "source": [
    "## Using libraries - Numpy and Pandas\n",
    "\n",
    "Like all other languages, Python has a range of useful libraries which provide additional functionality far beyond base Python. One of base Python's major limitations involves it's native inability to do operations over 1 dimensional data structures like list and it's inability store and handle multidimensional data objects like dataframes.\n",
    "\n",
    "Two of the most used Python packages address this: Numpy and Pandas\n",
    "\n",
    "### Numpy\n",
    "\n",
    "Numpy is a package or libary which provides functionality large multidimensionality array objects and tools for working with these objects. To see why Numpy is so important, try the code snippet below"
   ]
  },
  {
   "cell_type": "code",
   "execution_count": 23,
   "metadata": {},
   "outputs": [
    {
     "ename": "TypeError",
     "evalue": "unsupported operand type(s) for /: 'list' and 'int'",
     "output_type": "error",
     "traceback": [
      "\u001b[0;31m---------------------------------------------------------------------------\u001b[0m",
      "\u001b[0;31mTypeError\u001b[0m                                 Traceback (most recent call last)",
      "\u001b[0;32m<ipython-input-23-8bf2eeb8a59d>\u001b[0m in \u001b[0;36m<module>\u001b[0;34m()\u001b[0m\n\u001b[1;32m      1\u001b[0m \u001b[0mfirst_list\u001b[0m \u001b[0;34m=\u001b[0m \u001b[0;34m[\u001b[0m\u001b[0;36m20\u001b[0m\u001b[0;34m,\u001b[0m \u001b[0;36m40\u001b[0m\u001b[0;34m,\u001b[0m \u001b[0;36m60\u001b[0m\u001b[0;34m]\u001b[0m\u001b[0;34m\u001b[0m\u001b[0m\n\u001b[0;32m----> 2\u001b[0;31m \u001b[0mfirst_list\u001b[0m\u001b[0;34m/\u001b[0m\u001b[0;36m5\u001b[0m\u001b[0;34m\u001b[0m\u001b[0m\n\u001b[0m",
      "\u001b[0;31mTypeError\u001b[0m: unsupported operand type(s) for /: 'list' and 'int'"
     ]
    }
   ],
   "source": [
    "first_list = [20, 40, 60]\n",
    "first_list/5    "
   ]
  },
  {
   "cell_type": "markdown",
   "metadata": {},
   "source": [
    "Base Python cannot implement any operation over a list. Numpy allows us to do this."
   ]
  },
  {
   "cell_type": "code",
   "execution_count": 25,
   "metadata": {},
   "outputs": [
    {
     "data": {
      "text/plain": [
       "numpy.ndarray"
      ]
     },
     "execution_count": 25,
     "metadata": {},
     "output_type": "execute_result"
    }
   ],
   "source": [
    "import numpy as np\n",
    "\n",
    "# note that when we import a package we have the option to rename it\n",
    "# This is particularly useful since, we'll often make use of the following syntax to call methods - package_name.method()\n",
    "# We can therefore shorten the names of packages we use often\n",
    "# Also, one of the benefits of the Anaconda distribution of Python is that it comes with many pre-installed packages\n",
    "# Later in the course we'll look at how to install packages\n",
    "\n",
    "np_first_list = np.array(first_list) # we convert our list to a numpy array\n",
    "\n",
    "np_first_list/5\n",
    "\n",
    "type(np_first_list)"
   ]
  },
  {
   "cell_type": "markdown",
   "metadata": {},
   "source": [
    "A major limitation of Numpy is the fact that it can only store one data type. Nonetheless, numpy represents the standard package for scientific computing.\n",
    "\n",
    "### Pandas\n",
    "\n",
    "The next library we'll look at is Pandas. Pandas gives us two data structures: the 1 dimensional *series* and the 2 dimensional *dataframe*. Using Pandas, we can now work with tabular data. You can think of the Pandas dataframe as the Python equivalent of the R dataframe you learnt about earlier in the year.\n",
    "\n",
    "One feature that is particularly useful is the ability to create dataframes from dictionaries"
   ]
  },
  {
   "cell_type": "code",
   "execution_count": 27,
   "metadata": {},
   "outputs": [
    {
     "data": {
      "text/html": [
       "<div>\n",
       "<style scoped>\n",
       "    .dataframe tbody tr th:only-of-type {\n",
       "        vertical-align: middle;\n",
       "    }\n",
       "\n",
       "    .dataframe tbody tr th {\n",
       "        vertical-align: top;\n",
       "    }\n",
       "\n",
       "    .dataframe thead th {\n",
       "        text-align: right;\n",
       "    }\n",
       "</style>\n",
       "<table border=\"1\" class=\"dataframe\">\n",
       "  <thead>\n",
       "    <tr style=\"text-align: right;\">\n",
       "      <th></th>\n",
       "      <th>Japan</th>\n",
       "      <th>USA</th>\n",
       "      <th>Argentina</th>\n",
       "    </tr>\n",
       "  </thead>\n",
       "  <tbody>\n",
       "    <tr>\n",
       "      <th>0</th>\n",
       "      <td>Tokyo</td>\n",
       "      <td>Washington</td>\n",
       "      <td>Buenos Aires</td>\n",
       "    </tr>\n",
       "    <tr>\n",
       "      <th>1</th>\n",
       "      <td>Japanese</td>\n",
       "      <td>English</td>\n",
       "      <td>Spanish</td>\n",
       "    </tr>\n",
       "  </tbody>\n",
       "</table>\n",
       "</div>"
      ],
      "text/plain": [
       "      Japan         USA     Argentina\n",
       "0     Tokyo  Washington  Buenos Aires\n",
       "1  Japanese     English       Spanish"
      ]
     },
     "execution_count": 27,
     "metadata": {},
     "output_type": "execute_result"
    }
   ],
   "source": [
    "import pandas as pd\n",
    "\n",
    "countries = {'Japan':('Tokyo','Japanese'), \n",
    "             'USA': ('Washington', 'English'),\n",
    "             'Argentina': ('Buenos Aires', 'Spanish')}\n",
    "\n",
    "countries_df = pd.DataFrame(countries)\n",
    "\n",
    "countries_df"
   ]
  },
  {
   "cell_type": "markdown",
   "metadata": {},
   "source": [
    "Since we can now work with tabular data, we can easily read in external data and save them as Panda data frames"
   ]
  },
  {
   "cell_type": "code",
   "execution_count": 28,
   "metadata": {},
   "outputs": [
    {
     "data": {
      "text/plain": [
       "(183, 16)"
      ]
     },
     "execution_count": 28,
     "metadata": {},
     "output_type": "execute_result"
    }
   ],
   "source": [
    "FNAME = \"http://www.stat.ucla.edu/projects/datasets/twins.dat\"\n",
    "\n",
    "df = pd.read_csv(FNAME)\n",
    "\n",
    "# Inspection\n",
    "\n",
    "df.shape # Dimensions"
   ]
  },
  {
   "cell_type": "code",
   "execution_count": 80,
   "metadata": {},
   "outputs": [
    {
     "data": {
      "text/html": [
       "<div>\n",
       "<style scoped>\n",
       "    .dataframe tbody tr th:only-of-type {\n",
       "        vertical-align: middle;\n",
       "    }\n",
       "\n",
       "    .dataframe tbody tr th {\n",
       "        vertical-align: top;\n",
       "    }\n",
       "\n",
       "    .dataframe thead th {\n",
       "        text-align: right;\n",
       "    }\n",
       "</style>\n",
       "<table border=\"1\" class=\"dataframe\">\n",
       "  <thead>\n",
       "    <tr style=\"text-align: right;\">\n",
       "      <th></th>\n",
       "      <th>DLHRWAGE</th>\n",
       "      <th>DEDUC1</th>\n",
       "      <th>AGE</th>\n",
       "      <th>AGESQ</th>\n",
       "      <th>HRWAGEH</th>\n",
       "      <th>WHITEH</th>\n",
       "      <th>MALEH</th>\n",
       "      <th>EDUCH</th>\n",
       "      <th>HRWAGEL</th>\n",
       "      <th>WHITEL</th>\n",
       "      <th>MALEL</th>\n",
       "      <th>EDUCL</th>\n",
       "      <th>DEDUC2</th>\n",
       "      <th>DTEN</th>\n",
       "      <th>DMARRIED</th>\n",
       "      <th>DUNCOV</th>\n",
       "    </tr>\n",
       "  </thead>\n",
       "  <tbody>\n",
       "    <tr>\n",
       "      <th>0</th>\n",
       "      <td>0.2593466</td>\n",
       "      <td>0</td>\n",
       "      <td>33.251198</td>\n",
       "      <td>1105.642156</td>\n",
       "      <td>11.25</td>\n",
       "      <td>1</td>\n",
       "      <td>0</td>\n",
       "      <td>16</td>\n",
       "      <td>8.68</td>\n",
       "      <td>1</td>\n",
       "      <td>0</td>\n",
       "      <td>16</td>\n",
       "      <td>0</td>\n",
       "      <td>1.333</td>\n",
       "      <td>0</td>\n",
       "      <td>0</td>\n",
       "    </tr>\n",
       "    <tr>\n",
       "      <th>1</th>\n",
       "      <td>.</td>\n",
       "      <td>-1</td>\n",
       "      <td>54.053388</td>\n",
       "      <td>2921.768764</td>\n",
       "      <td>.</td>\n",
       "      <td>1</td>\n",
       "      <td>0</td>\n",
       "      <td>9</td>\n",
       "      <td>7.85</td>\n",
       "      <td>1</td>\n",
       "      <td>0</td>\n",
       "      <td>10</td>\n",
       "      <td>1</td>\n",
       "      <td>8</td>\n",
       "      <td>1</td>\n",
       "      <td>0</td>\n",
       "    </tr>\n",
       "    <tr>\n",
       "      <th>2</th>\n",
       "      <td>0.721318058</td>\n",
       "      <td>7</td>\n",
       "      <td>43.570157</td>\n",
       "      <td>1898.358618</td>\n",
       "      <td>18</td>\n",
       "      <td>1</td>\n",
       "      <td>0</td>\n",
       "      <td>19</td>\n",
       "      <td>8.75</td>\n",
       "      <td>1</td>\n",
       "      <td>0</td>\n",
       "      <td>12</td>\n",
       "      <td>4</td>\n",
       "      <td>3</td>\n",
       "      <td>-1</td>\n",
       "      <td>0</td>\n",
       "    </tr>\n",
       "    <tr>\n",
       "      <th>3</th>\n",
       "      <td>0.011581964</td>\n",
       "      <td>0</td>\n",
       "      <td>30.967830</td>\n",
       "      <td>959.006511</td>\n",
       "      <td>16.5</td>\n",
       "      <td>1</td>\n",
       "      <td>1</td>\n",
       "      <td>12</td>\n",
       "      <td>16.31</td>\n",
       "      <td>1</td>\n",
       "      <td>1</td>\n",
       "      <td>12</td>\n",
       "      <td>0</td>\n",
       "      <td>-2</td>\n",
       "      <td>0</td>\n",
       "      <td>1</td>\n",
       "    </tr>\n",
       "    <tr>\n",
       "      <th>4</th>\n",
       "      <td>-0.560984677</td>\n",
       "      <td>0</td>\n",
       "      <td>34.633812</td>\n",
       "      <td>1199.500965</td>\n",
       "      <td>9.6154</td>\n",
       "      <td>1</td>\n",
       "      <td>1</td>\n",
       "      <td>14</td>\n",
       "      <td>16.85</td>\n",
       "      <td>1</td>\n",
       "      <td>1</td>\n",
       "      <td>14</td>\n",
       "      <td>1</td>\n",
       "      <td>2.917</td>\n",
       "      <td>0</td>\n",
       "      <td>-1</td>\n",
       "    </tr>\n",
       "  </tbody>\n",
       "</table>\n",
       "</div>"
      ],
      "text/plain": [
       "       DLHRWAGE  DEDUC1        AGE        AGESQ HRWAGEH  WHITEH  MALEH  EDUCH  \\\n",
       "0     0.2593466       0  33.251198  1105.642156   11.25       1      0     16   \n",
       "1             .      -1  54.053388  2921.768764       .       1      0      9   \n",
       "2   0.721318058       7  43.570157  1898.358618      18       1      0     19   \n",
       "3   0.011581964       0  30.967830   959.006511    16.5       1      1     12   \n",
       "4  -0.560984677       0  34.633812  1199.500965  9.6154       1      1     14   \n",
       "\n",
       "  HRWAGEL  WHITEL  MALEL  EDUCL  DEDUC2   DTEN  DMARRIED  DUNCOV  \n",
       "0    8.68       1      0     16       0  1.333         0       0  \n",
       "1    7.85       1      0     10       1      8         1       0  \n",
       "2    8.75       1      0     12       4      3        -1       0  \n",
       "3   16.31       1      1     12       0     -2         0       1  \n",
       "4   16.85       1      1     14       1  2.917         0      -1  "
      ]
     },
     "execution_count": 80,
     "metadata": {},
     "output_type": "execute_result"
    }
   ],
   "source": [
    "df.head() # First 5 lines"
   ]
  },
  {
   "cell_type": "code",
   "execution_count": 81,
   "metadata": {},
   "outputs": [
    {
     "data": {
      "text/html": [
       "<div>\n",
       "<style scoped>\n",
       "    .dataframe tbody tr th:only-of-type {\n",
       "        vertical-align: middle;\n",
       "    }\n",
       "\n",
       "    .dataframe tbody tr th {\n",
       "        vertical-align: top;\n",
       "    }\n",
       "\n",
       "    .dataframe thead th {\n",
       "        text-align: right;\n",
       "    }\n",
       "</style>\n",
       "<table border=\"1\" class=\"dataframe\">\n",
       "  <thead>\n",
       "    <tr style=\"text-align: right;\">\n",
       "      <th></th>\n",
       "      <th>DLHRWAGE</th>\n",
       "      <th>DEDUC1</th>\n",
       "      <th>AGE</th>\n",
       "      <th>AGESQ</th>\n",
       "      <th>HRWAGEH</th>\n",
       "      <th>WHITEH</th>\n",
       "      <th>MALEH</th>\n",
       "      <th>EDUCH</th>\n",
       "      <th>HRWAGEL</th>\n",
       "      <th>WHITEL</th>\n",
       "      <th>MALEL</th>\n",
       "      <th>EDUCL</th>\n",
       "      <th>DEDUC2</th>\n",
       "      <th>DTEN</th>\n",
       "      <th>DMARRIED</th>\n",
       "      <th>DUNCOV</th>\n",
       "    </tr>\n",
       "  </thead>\n",
       "  <tbody>\n",
       "    <tr>\n",
       "      <th>180</th>\n",
       "      <td>0.850332764</td>\n",
       "      <td>2</td>\n",
       "      <td>40.312115</td>\n",
       "      <td>1625.066615</td>\n",
       "      <td>5.5</td>\n",
       "      <td>1</td>\n",
       "      <td>0</td>\n",
       "      <td>14</td>\n",
       "      <td>2.35</td>\n",
       "      <td>1</td>\n",
       "      <td>0</td>\n",
       "      <td>12</td>\n",
       "      <td>2</td>\n",
       "      <td>2</td>\n",
       "      <td>0</td>\n",
       "      <td>0</td>\n",
       "    </tr>\n",
       "    <tr>\n",
       "      <th>181</th>\n",
       "      <td>-0.729514825</td>\n",
       "      <td>-2</td>\n",
       "      <td>28.413415</td>\n",
       "      <td>807.322179</td>\n",
       "      <td>7.5</td>\n",
       "      <td>1</td>\n",
       "      <td>0</td>\n",
       "      <td>14</td>\n",
       "      <td>15.55555556</td>\n",
       "      <td>1</td>\n",
       "      <td>0</td>\n",
       "      <td>16</td>\n",
       "      <td>-2</td>\n",
       "      <td>-2</td>\n",
       "      <td>0</td>\n",
       "      <td>0</td>\n",
       "    </tr>\n",
       "    <tr>\n",
       "      <th>182</th>\n",
       "      <td>-0.500775288</td>\n",
       "      <td>0</td>\n",
       "      <td>28.413415</td>\n",
       "      <td>807.322179</td>\n",
       "      <td>9</td>\n",
       "      <td>1</td>\n",
       "      <td>0</td>\n",
       "      <td>16</td>\n",
       "      <td>14.85</td>\n",
       "      <td>1</td>\n",
       "      <td>0</td>\n",
       "      <td>16</td>\n",
       "      <td>-2</td>\n",
       "      <td>3</td>\n",
       "      <td>0</td>\n",
       "      <td>0</td>\n",
       "    </tr>\n",
       "  </tbody>\n",
       "</table>\n",
       "</div>"
      ],
      "text/plain": [
       "         DLHRWAGE  DEDUC1        AGE        AGESQ HRWAGEH  WHITEH  MALEH  \\\n",
       "180   0.850332764       2  40.312115  1625.066615     5.5       1      0   \n",
       "181  -0.729514825      -2  28.413415   807.322179     7.5       1      0   \n",
       "182  -0.500775288       0  28.413415   807.322179       9       1      0   \n",
       "\n",
       "     EDUCH      HRWAGEL  WHITEL  MALEL  EDUCL  DEDUC2 DTEN  DMARRIED  DUNCOV  \n",
       "180     14         2.35       1      0     12       2    2         0       0  \n",
       "181     14  15.55555556       1      0     16      -2   -2         0       0  \n",
       "182     16        14.85       1      0     16      -2    3         0       0  "
      ]
     },
     "execution_count": 81,
     "metadata": {},
     "output_type": "execute_result"
    }
   ],
   "source": [
    "df.tail(3) # Last 3 lines"
   ]
  },
  {
   "cell_type": "code",
   "execution_count": 82,
   "metadata": {},
   "outputs": [
    {
     "data": {
      "text/plain": [
       "Index(['DLHRWAGE', 'DEDUC1', 'AGE', 'AGESQ', 'HRWAGEH', 'WHITEH', 'MALEH',\n",
       "       'EDUCH', 'HRWAGEL', 'WHITEL', 'MALEL', 'EDUCL', 'DEDUC2', 'DTEN',\n",
       "       'DMARRIED', 'DUNCOV'],\n",
       "      dtype='object')"
      ]
     },
     "execution_count": 82,
     "metadata": {},
     "output_type": "execute_result"
    }
   ],
   "source": [
    "df.columns # List of variables as list"
   ]
  },
  {
   "cell_type": "code",
   "execution_count": 83,
   "metadata": {},
   "outputs": [
    {
     "data": {
      "text/plain": [
       "DLHRWAGE     object\n",
       "DEDUC1        int64\n",
       "AGE         float64\n",
       "AGESQ       float64\n",
       "HRWAGEH      object\n",
       "WHITEH        int64\n",
       "MALEH         int64\n",
       "EDUCH         int64\n",
       "HRWAGEL      object\n",
       "WHITEL        int64\n",
       "MALEL         int64\n",
       "EDUCL         int64\n",
       "DEDUC2        int64\n",
       "DTEN         object\n",
       "DMARRIED      int64\n",
       "DUNCOV        int64\n",
       "dtype: object"
      ]
     },
     "execution_count": 83,
     "metadata": {},
     "output_type": "execute_result"
    }
   ],
   "source": [
    "df.dtypes # List of all variables with type"
   ]
  },
  {
   "cell_type": "code",
   "execution_count": 84,
   "metadata": {},
   "outputs": [
    {
     "data": {
      "text/html": [
       "<div>\n",
       "<style scoped>\n",
       "    .dataframe tbody tr th:only-of-type {\n",
       "        vertical-align: middle;\n",
       "    }\n",
       "\n",
       "    .dataframe tbody tr th {\n",
       "        vertical-align: top;\n",
       "    }\n",
       "\n",
       "    .dataframe thead th {\n",
       "        text-align: right;\n",
       "    }\n",
       "</style>\n",
       "<table border=\"1\" class=\"dataframe\">\n",
       "  <thead>\n",
       "    <tr style=\"text-align: right;\">\n",
       "      <th></th>\n",
       "      <th>DEDUC1</th>\n",
       "      <th>AGE</th>\n",
       "      <th>AGESQ</th>\n",
       "      <th>WHITEH</th>\n",
       "      <th>MALEH</th>\n",
       "      <th>EDUCH</th>\n",
       "      <th>WHITEL</th>\n",
       "      <th>MALEL</th>\n",
       "      <th>EDUCL</th>\n",
       "      <th>DEDUC2</th>\n",
       "      <th>DMARRIED</th>\n",
       "      <th>DUNCOV</th>\n",
       "    </tr>\n",
       "  </thead>\n",
       "  <tbody>\n",
       "    <tr>\n",
       "      <th>count</th>\n",
       "      <td>183.000000</td>\n",
       "      <td>183.000000</td>\n",
       "      <td>183.000000</td>\n",
       "      <td>183.000000</td>\n",
       "      <td>183.000000</td>\n",
       "      <td>183.000000</td>\n",
       "      <td>183.000000</td>\n",
       "      <td>183.000000</td>\n",
       "      <td>183.000000</td>\n",
       "      <td>183.000000</td>\n",
       "      <td>183.000000</td>\n",
       "      <td>183.000000</td>\n",
       "    </tr>\n",
       "    <tr>\n",
       "      <th>mean</th>\n",
       "      <td>-0.010929</td>\n",
       "      <td>38.694015</td>\n",
       "      <td>1666.242009</td>\n",
       "      <td>0.934426</td>\n",
       "      <td>0.459016</td>\n",
       "      <td>13.950820</td>\n",
       "      <td>0.939891</td>\n",
       "      <td>0.459016</td>\n",
       "      <td>13.961749</td>\n",
       "      <td>-0.021858</td>\n",
       "      <td>-0.016393</td>\n",
       "      <td>0.021858</td>\n",
       "    </tr>\n",
       "    <tr>\n",
       "      <th>std</th>\n",
       "      <td>1.881048</td>\n",
       "      <td>13.036251</td>\n",
       "      <td>1181.710178</td>\n",
       "      <td>0.248215</td>\n",
       "      <td>0.499685</td>\n",
       "      <td>2.332943</td>\n",
       "      <td>0.238341</td>\n",
       "      <td>0.499685</td>\n",
       "      <td>2.204805</td>\n",
       "      <td>1.886785</td>\n",
       "      <td>0.507909</td>\n",
       "      <td>0.491200</td>\n",
       "    </tr>\n",
       "    <tr>\n",
       "      <th>min</th>\n",
       "      <td>-7.000000</td>\n",
       "      <td>18.781656</td>\n",
       "      <td>352.750617</td>\n",
       "      <td>0.000000</td>\n",
       "      <td>0.000000</td>\n",
       "      <td>8.000000</td>\n",
       "      <td>0.000000</td>\n",
       "      <td>0.000000</td>\n",
       "      <td>8.000000</td>\n",
       "      <td>-6.000000</td>\n",
       "      <td>-1.000000</td>\n",
       "      <td>-1.000000</td>\n",
       "    </tr>\n",
       "    <tr>\n",
       "      <th>25%</th>\n",
       "      <td>-1.000000</td>\n",
       "      <td>28.977413</td>\n",
       "      <td>839.696325</td>\n",
       "      <td>1.000000</td>\n",
       "      <td>0.000000</td>\n",
       "      <td>12.000000</td>\n",
       "      <td>1.000000</td>\n",
       "      <td>0.000000</td>\n",
       "      <td>12.000000</td>\n",
       "      <td>-1.000000</td>\n",
       "      <td>0.000000</td>\n",
       "      <td>0.000000</td>\n",
       "    </tr>\n",
       "    <tr>\n",
       "      <th>50%</th>\n",
       "      <td>0.000000</td>\n",
       "      <td>36.041068</td>\n",
       "      <td>1298.958565</td>\n",
       "      <td>1.000000</td>\n",
       "      <td>0.000000</td>\n",
       "      <td>13.000000</td>\n",
       "      <td>1.000000</td>\n",
       "      <td>0.000000</td>\n",
       "      <td>14.000000</td>\n",
       "      <td>0.000000</td>\n",
       "      <td>0.000000</td>\n",
       "      <td>0.000000</td>\n",
       "    </tr>\n",
       "    <tr>\n",
       "      <th>75%</th>\n",
       "      <td>0.000000</td>\n",
       "      <td>44.777550</td>\n",
       "      <td>2005.034018</td>\n",
       "      <td>1.000000</td>\n",
       "      <td>1.000000</td>\n",
       "      <td>16.000000</td>\n",
       "      <td>1.000000</td>\n",
       "      <td>1.000000</td>\n",
       "      <td>16.000000</td>\n",
       "      <td>0.000000</td>\n",
       "      <td>0.000000</td>\n",
       "      <td>0.000000</td>\n",
       "    </tr>\n",
       "    <tr>\n",
       "      <th>max</th>\n",
       "      <td>7.000000</td>\n",
       "      <td>79.123888</td>\n",
       "      <td>6260.589612</td>\n",
       "      <td>1.000000</td>\n",
       "      <td>1.000000</td>\n",
       "      <td>20.000000</td>\n",
       "      <td>1.000000</td>\n",
       "      <td>1.000000</td>\n",
       "      <td>20.000000</td>\n",
       "      <td>7.000000</td>\n",
       "      <td>1.000000</td>\n",
       "      <td>1.000000</td>\n",
       "    </tr>\n",
       "  </tbody>\n",
       "</table>\n",
       "</div>"
      ],
      "text/plain": [
       "           DEDUC1         AGE        AGESQ      WHITEH       MALEH  \\\n",
       "count  183.000000  183.000000   183.000000  183.000000  183.000000   \n",
       "mean    -0.010929   38.694015  1666.242009    0.934426    0.459016   \n",
       "std      1.881048   13.036251  1181.710178    0.248215    0.499685   \n",
       "min     -7.000000   18.781656   352.750617    0.000000    0.000000   \n",
       "25%     -1.000000   28.977413   839.696325    1.000000    0.000000   \n",
       "50%      0.000000   36.041068  1298.958565    1.000000    0.000000   \n",
       "75%      0.000000   44.777550  2005.034018    1.000000    1.000000   \n",
       "max      7.000000   79.123888  6260.589612    1.000000    1.000000   \n",
       "\n",
       "            EDUCH      WHITEL       MALEL       EDUCL      DEDUC2    DMARRIED  \\\n",
       "count  183.000000  183.000000  183.000000  183.000000  183.000000  183.000000   \n",
       "mean    13.950820    0.939891    0.459016   13.961749   -0.021858   -0.016393   \n",
       "std      2.332943    0.238341    0.499685    2.204805    1.886785    0.507909   \n",
       "min      8.000000    0.000000    0.000000    8.000000   -6.000000   -1.000000   \n",
       "25%     12.000000    1.000000    0.000000   12.000000   -1.000000    0.000000   \n",
       "50%     13.000000    1.000000    0.000000   14.000000    0.000000    0.000000   \n",
       "75%     16.000000    1.000000    1.000000   16.000000    0.000000    0.000000   \n",
       "max     20.000000    1.000000    1.000000   20.000000    7.000000    1.000000   \n",
       "\n",
       "           DUNCOV  \n",
       "count  183.000000  \n",
       "mean     0.021858  \n",
       "std      0.491200  \n",
       "min     -1.000000  \n",
       "25%      0.000000  \n",
       "50%      0.000000  \n",
       "75%      0.000000  \n",
       "max      1.000000  "
      ]
     },
     "execution_count": 84,
     "metadata": {},
     "output_type": "execute_result"
    }
   ],
   "source": [
    "df.describe() # Summary statistics"
   ]
  },
  {
   "cell_type": "code",
   "execution_count": 86,
   "metadata": {},
   "outputs": [
    {
     "data": {
      "text/plain": [
       "DLHRWAGE    1.523260216\n",
       "DEDUC1               -2\n",
       "AGE             34.9788\n",
       "AGESQ           1223.52\n",
       "HRWAGEH              35\n",
       "WHITEH                1\n",
       "MALEH                 0\n",
       "EDUCH                13\n",
       "HRWAGEL            7.63\n",
       "WHITEL                1\n",
       "MALEL                 0\n",
       "EDUCL                15\n",
       "DEDUC2               -2\n",
       "DTEN                  3\n",
       "DMARRIED              1\n",
       "DUNCOV                0\n",
       "Name: 6, dtype: object"
      ]
     },
     "execution_count": 86,
     "metadata": {},
     "output_type": "execute_result"
    }
   ],
   "source": [
    "df.loc[6] # Seventh row"
   ]
  }
 ],
 "metadata": {
  "kernelspec": {
   "display_name": "Python 3",
   "language": "python",
   "name": "python3"
  },
  "language_info": {
   "codemirror_mode": {
    "name": "ipython",
    "version": 3
   },
   "file_extension": ".py",
   "mimetype": "text/x-python",
   "name": "python",
   "nbconvert_exporter": "python",
   "pygments_lexer": "ipython3",
   "version": "3.6.5"
  }
 },
 "nbformat": 4,
 "nbformat_minor": 2
}
