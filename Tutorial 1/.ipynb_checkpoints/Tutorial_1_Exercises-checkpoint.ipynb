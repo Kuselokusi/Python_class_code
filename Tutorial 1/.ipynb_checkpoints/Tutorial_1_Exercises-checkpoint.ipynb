{
 "cells": [
  {
   "cell_type": "markdown",
   "metadata": {},
   "source": [
    "# Tutorial 1 exercises\n",
    "\n",
    "\n",
    "In this tutorial we'll go over a few exercises related to the content of the first lecture and tutorial.  In particular, you will\n",
    "\n",
    "1. Work with different data types and data structures\n",
    "2. Implement conditional logic\n",
    "3. Write your own functions\n",
    "4. Use Numpy and Pandas to solve multidimensional problem\n",
    "\n",
    "\n",
    "## Data types and data structures\n",
    "\n",
    "1. Extract the character 'o' from the string \"Python\" using conventional and negative indexing"
   ]
  },
  {
   "cell_type": "code",
   "execution_count": 1,
   "metadata": {},
   "outputs": [
    {
     "name": "stdout",
     "output_type": "stream",
     "text": [
      "o\n"
     ]
    }
   ],
   "source": [
    "my_string = \"Python\"\n",
    "\n",
    "print(my_string[4])"
   ]
  },
  {
   "cell_type": "markdown",
   "metadata": {},
   "source": [
    "2. Replace the string \"Python\" in the nested list with the string \"Jupyter\" instead"
   ]
  },
  {
   "cell_type": "code",
   "execution_count": 5,
   "metadata": {},
   "outputs": [
    {
     "name": "stdout",
     "output_type": "stream",
     "text": [
      "[1, 2, [3, 4, 'Python']]\n"
     ]
    }
   ],
   "source": [
    "my_list = [1, 2, [3, 4,'Jupyter']]\n",
    "\n",
    "my_list[2][2]=\"Python\"\n",
    "print(my_list)"
   ]
  },
  {
   "cell_type": "markdown",
   "metadata": {},
   "source": [
    "3. Replace the string \"Python\" in the nested list with the string \"Jupyter\" instead"
   ]
  },
  {
   "cell_type": "code",
   "execution_count": 6,
   "metadata": {},
   "outputs": [
    {
     "name": "stdout",
     "output_type": "stream",
     "text": [
      "[1, 2, [3, 4, [5, 6, 'Python']]]\n"
     ]
    }
   ],
   "source": [
    "my_list = [1, 2, [3, 4, [5, 6, 'Jupyter']]]\n",
    "\n",
    "my_list[2][2][2]=\"Python\"\n",
    "print(my_list)"
   ]
  },
  {
   "cell_type": "markdown",
   "metadata": {},
   "source": [
    "4. Arrange the following list in ascending order"
   ]
  },
  {
   "cell_type": "code",
   "execution_count": 9,
   "metadata": {},
   "outputs": [
    {
     "data": {
      "text/plain": [
       "[1, 2, 3, 4, 5, 6, 7]"
      ]
     },
     "execution_count": 9,
     "metadata": {},
     "output_type": "execute_result"
    }
   ],
   "source": [
    "my_list = [5, 4, 7, 2, 6, 1, 3,]\n",
    "\n",
    "my_list.sort()\n",
    "my_list"
   ]
  },
  {
   "cell_type": "markdown",
   "metadata": {},
   "source": [
    "5. Extract the unique items from this list"
   ]
  },
  {
   "cell_type": "code",
   "execution_count": 11,
   "metadata": {},
   "outputs": [
    {
     "name": "stdout",
     "output_type": "stream",
     "text": [
      "{1, 2, 3, 4, 5, 8, 9}\n"
     ]
    }
   ],
   "source": [
    "my_list = [2,3,4,5,2,3,1,9,9,8,4,3,4,5,1]\n",
    "my_list_set=set(my_list)\n",
    "print(my_list_set)"
   ]
  },
  {
   "cell_type": "markdown",
   "metadata": {},
   "source": [
    "6. Think of your own example for where a dictionary would be useful"
   ]
  },
  {
   "cell_type": "code",
   "execution_count": null,
   "metadata": {},
   "outputs": [],
   "source": [
    "#Answer"
   ]
  },
  {
   "cell_type": "markdown",
   "metadata": {},
   "source": [
    "7. Get \"Python\" from the following dictionary"
   ]
  },
  {
   "cell_type": "code",
   "execution_count": 13,
   "metadata": {},
   "outputs": [
    {
     "name": "stdout",
     "output_type": "stream",
     "text": [
      "Python\n"
     ]
    }
   ],
   "source": [
    "my_dict = {'key1':'Python'}\n",
    "\n",
    "print(my_dict['key1'])"
   ]
  },
  {
   "cell_type": "markdown",
   "metadata": {},
   "source": [
    "8. Get \"Python\" from the following dictionary"
   ]
  },
  {
   "cell_type": "code",
   "execution_count": 14,
   "metadata": {},
   "outputs": [
    {
     "name": "stdout",
     "output_type": "stream",
     "text": [
      "Python\n"
     ]
    }
   ],
   "source": [
    "my_dict = {'key1':{'key2':'Python'}}\n",
    "\n",
    "print(my_dict['key1']['key2'])"
   ]
  },
  {
   "cell_type": "markdown",
   "metadata": {},
   "source": [
    "9. Get \"Python\" from the following dictionary"
   ]
  },
  {
   "cell_type": "code",
   "execution_count": 15,
   "metadata": {},
   "outputs": [
    {
     "name": "stdout",
     "output_type": "stream",
     "text": [
      "['Python']\n"
     ]
    }
   ],
   "source": [
    "my_dict = {'key1':[1,2,{'key2':['Jupyter',{'Anaconda':[3,4,['Python']]}]}]}\n",
    "\n",
    "print(my_dict['key1'][2]['key2'][1]['Anaconda'][2])"
   ]
  },
  {
   "cell_type": "markdown",
   "metadata": {},
   "source": [
    "## Conditonal logic"
   ]
  },
  {
   "cell_type": "markdown",
   "metadata": {},
   "source": [
    "10. Print the integers from 1 to 50. For every multiple of three, print \"Snap\", for every multiple of five, print \"Crackle\", and for numbers which are multiples of both three and five print \"Pop\"."
   ]
  },
  {
   "cell_type": "code",
   "execution_count": null,
   "metadata": {},
   "outputs": [],
   "source": [
    "#Answer"
   ]
  },
  {
   "cell_type": "markdown",
   "metadata": {},
   "source": [
    "11. Go through the sentence, <code>my_sentence</code>, and print every word of which the length of that word is an odd number"
   ]
  },
  {
   "cell_type": "code",
   "execution_count": null,
   "metadata": {},
   "outputs": [],
   "source": [
    "my_sentence = \"This is the sentence I would like you to print out and use for question 11 in this tutorial\"\n",
    "\n",
    "#Answer"
   ]
  },
  {
   "cell_type": "markdown",
   "metadata": {},
   "source": [
    "## Functions\n",
    "\n",
    "12. Write a function called <code>talk</code> that prints \"Hello\" every time it is called"
   ]
  },
  {
   "cell_type": "code",
   "execution_count": 51,
   "metadata": {},
   "outputs": [
    {
     "name": "stdout",
     "output_type": "stream",
     "text": [
      "Hello\n"
     ]
    }
   ],
   "source": [
    "def talk():\n",
    "    print(\"Hello\")\n",
    "talk()"
   ]
  },
  {
   "cell_type": "markdown",
   "metadata": {},
   "source": [
    "13. Write a function called <code>introduction</code> that takes a name as an input and prints the following\n",
    "    \"Hello, my name is [insert name here]\""
   ]
  },
  {
   "cell_type": "code",
   "execution_count": 52,
   "metadata": {},
   "outputs": [
    {
     "name": "stdout",
     "output_type": "stream",
     "text": [
      "Hello Kusi\n"
     ]
    }
   ],
   "source": [
    "def introduction(name):\n",
    "    print(\"Hello \"+name)\n",
    "introduction(\"Kusi\")    "
   ]
  },
  {
   "cell_type": "markdown",
   "metadata": {},
   "source": [
    "14) Write a function that (i) takes two integers as input (ii) checks that the two inputs provided are indeed integers (prints out a message if not) (iii) returns the larger of the two integer and (iv) returns a string \"equal\" if the two numbers are equal"
   ]
  },
  {
   "cell_type": "code",
   "execution_count": 59,
   "metadata": {},
   "outputs": [
    {
     "name": "stdout",
     "output_type": "stream",
     "text": [
      "one or both inputs are not integers\n"
     ]
    }
   ],
   "source": [
    "def func(int_1, int_2):\n",
    "    if (type(int_1) != int) or (type(int_2) != int):\n",
    "        print(\"one or both inputs are not integers\")\n",
    "    elif (int_1>int_2):\n",
    "        return(int_1)\n",
    "    elif (int_2>int_1):\n",
    "        return(int_2)\n",
    "    else: return(\"inputs given are equal\") \n",
    "\n",
    "func(\"kusi\",1)    "
   ]
  },
  {
   "cell_type": "markdown",
   "metadata": {},
   "source": [
    "15. Write a function that takes a word and capitalizes the first and third character"
   ]
  },
  {
   "cell_type": "code",
   "execution_count": 64,
   "metadata": {},
   "outputs": [
    {
     "data": {
      "text/plain": [
       "'JoHn'"
      ]
     },
     "execution_count": 64,
     "metadata": {},
     "output_type": "execute_result"
    }
   ],
   "source": [
    "def capital(word):\n",
    "    word = word[0].upper() + word[1] + word[2].upper()+word[3:]\n",
    "    return(word)\n",
    "\n",
    "capital(\"john\")"
   ]
  },
  {
   "cell_type": "markdown",
   "metadata": {},
   "source": [
    "16. Write a function that takes three integers as inputs and checks whether the first integer is in the range between the second and third integer. If the second integer is greater than or equal to the third integer, print an appropriate message"
   ]
  },
  {
   "cell_type": "code",
   "execution_count": 67,
   "metadata": {},
   "outputs": [
    {
     "name": "stdout",
     "output_type": "stream",
     "text": [
      "User_num not in the provided range\n"
     ]
    }
   ],
   "source": [
    "def check_range(user_num, low_num, high_num):\n",
    "    if user_num not in range(low_num, high_num):\n",
    "        print(\"User_num not in the provided range\")\n",
    "    pass\n",
    "\n",
    "check_range(10,1,8)"
   ]
  },
  {
   "cell_type": "markdown",
   "metadata": {},
   "source": [
    "17. Write a function called \"Blackjack\" that takes 3 integers as an input. (i) If the sum is less than or equal to 21, return the sum. (ii) If the sum is greater than 21, but there is an 11 as one of the three integers, reduce the sum by 10 and then return the sum (iii) If the sum is greater than 21 - even after (ii) - return the string \"Bust\""
   ]
  },
  {
   "cell_type": "code",
   "execution_count": 65,
   "metadata": {},
   "outputs": [],
   "source": [
    "def Blackjack(int_1, int_2, int_3):\n",
    "    sum_num=sum(int_1, int_2, int_3)\n",
    "    if sum_num<21:\n",
    "        return(sum_num)\n",
    "    elif (sum_num>21) and (int_1==11 or int_2==11 or int_3==11):\n",
    "        return(sum_num-10)\n",
    "    elif (sum_num>21):\n",
    "        return(\"Bust\")\n",
    "    "
   ]
  },
  {
   "cell_type": "markdown",
   "metadata": {},
   "source": [
    "## Numpy and Pandas\n",
    "\n",
    "17. The list <code>heights</code> contains a collection of heights expressed in inches. Convert these to metres which are simply, inches multipled by 0.0254"
   ]
  },
  {
   "cell_type": "code",
   "execution_count": 18,
   "metadata": {},
   "outputs": [
    {
     "data": {
      "text/plain": [
       "array([ 1.8796,  1.8796,  1.8288,  1.8288,  1.8542,  1.7526,  1.7526,\n",
       "        1.8034,  1.9304,  1.8034,  1.8542,  1.8542,  1.8796,  1.8796,\n",
       "        1.7526,  1.778 ,  1.8542,  1.905 ,  1.9812,  2.0066,  1.9304,\n",
       "        1.8796,  1.9304,  1.8288,  1.8034,  1.905 ,  1.9558,  1.8796,\n",
       "        1.8542,  1.8796,  1.9812,  1.8542,  1.905 ,  1.8542,  1.905 ,\n",
       "        1.905 ,  1.8796,  1.7526,  1.8034,  1.8796])"
      ]
     },
     "execution_count": 18,
     "metadata": {},
     "output_type": "execute_result"
    }
   ],
   "source": [
    "heights = [74, 74, 72, 72, 73, 69, 69, 71, 76, 71, 73, 73, 74, 74, 69, 70, 73, 75, 78, 79, \n",
    "           76, 74, 76, 72, 71, 75, 77, 74, 73, 74, 78, 73, 75, 73, 75, 75, 74, 69, 71, 74]\n",
    "\n",
    "import numpy as np\n",
    "heights_np=np.array(heights)*0.0254\n"
   ]
  },
  {
   "cell_type": "markdown",
   "metadata": {},
   "source": [
    "18. Using the same data, print out all the heights below 1.78m"
   ]
  },
  {
   "cell_type": "code",
   "execution_count": 22,
   "metadata": {},
   "outputs": [
    {
     "data": {
      "text/plain": [
       "array([ 1.7526,  1.7526,  1.7526,  1.778 ,  1.7526])"
      ]
     },
     "execution_count": 22,
     "metadata": {},
     "output_type": "execute_result"
    }
   ],
   "source": [
    "b=heights_np<1.78\n",
    "heights_np_below=heights_np[b]\n",
    "print(heights_np_below)"
   ]
  },
  {
   "cell_type": "markdown",
   "metadata": {},
   "source": [
    "19. Convert the list to a 2D Numpy array"
   ]
  },
  {
   "cell_type": "code",
   "execution_count": 28,
   "metadata": {},
   "outputs": [
    {
     "name": "stdout",
     "output_type": "stream",
     "text": [
      "[[ 200.    74.4]\n",
      " [ 175.   100.6]\n",
      " [ 168.    92.2]\n",
      " [ 190.    80.2]]\n"
     ]
    },
    {
     "data": {
      "text/plain": [
       "2"
      ]
     },
     "execution_count": 28,
     "metadata": {},
     "output_type": "execute_result"
    }
   ],
   "source": [
    "my_list = [[200, 74.4],\n",
    "            [175, 100.6],\n",
    "            [168, 92.2],\n",
    "            [190, 80.2]]\n",
    "\n",
    "my_list_np = np.array(my_list)\n",
    "print(my_list_np)\n",
    "my_list_np.ndim"
   ]
  },
  {
   "cell_type": "markdown",
   "metadata": {},
   "source": [
    "20. Convert the lists to a dictionary, and then to a data frame"
   ]
  },
  {
   "cell_type": "code",
   "execution_count": 79,
   "metadata": {},
   "outputs": [
    {
     "data": {
      "text/html": [
       "<div>\n",
       "<style scoped>\n",
       "    .dataframe tbody tr th:only-of-type {\n",
       "        vertical-align: middle;\n",
       "    }\n",
       "\n",
       "    .dataframe tbody tr th {\n",
       "        vertical-align: top;\n",
       "    }\n",
       "\n",
       "    .dataframe thead th {\n",
       "        text-align: right;\n",
       "    }\n",
       "</style>\n",
       "<table border=\"1\" class=\"dataframe\">\n",
       "  <thead>\n",
       "    <tr style=\"text-align: right;\">\n",
       "      <th></th>\n",
       "      <th>United States</th>\n",
       "      <th>Australia</th>\n",
       "      <th>Russia</th>\n",
       "      <th>South Africa</th>\n",
       "      <th>Canada</th>\n",
       "      <th>Namibia</th>\n",
       "    </tr>\n",
       "  </thead>\n",
       "  <tbody>\n",
       "    <tr>\n",
       "      <th>0</th>\n",
       "      <td>True</td>\n",
       "      <td>False</td>\n",
       "      <td>True</td>\n",
       "      <td>False</td>\n",
       "      <td>True</td>\n",
       "      <td>False</td>\n",
       "    </tr>\n",
       "    <tr>\n",
       "      <th>1</th>\n",
       "      <td>325.7</td>\n",
       "      <td>24.1</td>\n",
       "      <td>144.3</td>\n",
       "      <td>55.9</td>\n",
       "      <td>36.3</td>\n",
       "      <td>2.5</td>\n",
       "    </tr>\n",
       "  </tbody>\n",
       "</table>\n",
       "</div>"
      ],
      "text/plain": [
       "  United States Australia Russia South Africa Canada Namibia\n",
       "0          True     False   True        False   True   False\n",
       "1         325.7      24.1  144.3         55.9   36.3     2.5"
      ]
     },
     "execution_count": 79,
     "metadata": {},
     "output_type": "execute_result"
    }
   ],
   "source": [
    "names = ['United States', 'Australia', 'Russia', 'South Africa', 'Canada', 'Namibia']\n",
    "north_hemis =  [True, False, True, False, True, False]\n",
    "pop = [325.7, 24.1, 144.3, 55.9, 36.3, 2.5]\n",
    "\n",
    "Country_keys=dict(zip(names, zip(north_hemis, pop)))\n",
    "\n",
    "import pandas as pd\n",
    "names_pd=pd.DataFrame(Country_keys)\n",
    "names_pd"
   ]
  },
  {
   "cell_type": "markdown",
   "metadata": {},
   "source": [
    "21. Import the following dataset as a pandas dataframe directly from the web and print out some summary statistics: http://tutorials.iq.harvard.edu/R/Rgraphics/dataSets/landdata-states.csv"
   ]
  },
  {
   "cell_type": "code",
   "execution_count": 50,
   "metadata": {},
   "outputs": [
    {
     "data": {
      "text/html": [
       "<div>\n",
       "<style scoped>\n",
       "    .dataframe tbody tr th:only-of-type {\n",
       "        vertical-align: middle;\n",
       "    }\n",
       "\n",
       "    .dataframe tbody tr th {\n",
       "        vertical-align: top;\n",
       "    }\n",
       "\n",
       "    .dataframe thead th {\n",
       "        text-align: right;\n",
       "    }\n",
       "</style>\n",
       "<table border=\"1\" class=\"dataframe\">\n",
       "  <thead>\n",
       "    <tr style=\"text-align: right;\">\n",
       "      <th></th>\n",
       "      <th>State</th>\n",
       "      <th>region</th>\n",
       "      <th>Date</th>\n",
       "      <th>Home.Value</th>\n",
       "      <th>Structure.Cost</th>\n",
       "      <th>Land.Value</th>\n",
       "      <th>Land.Share..Pct.</th>\n",
       "      <th>Home.Price.Index</th>\n",
       "      <th>Land.Price.Index</th>\n",
       "      <th>Year</th>\n",
       "      <th>Qrtr</th>\n",
       "    </tr>\n",
       "  </thead>\n",
       "  <tbody>\n",
       "    <tr>\n",
       "      <th>0</th>\n",
       "      <td>AK</td>\n",
       "      <td>West</td>\n",
       "      <td>2010.25</td>\n",
       "      <td>224952</td>\n",
       "      <td>160599</td>\n",
       "      <td>64352</td>\n",
       "      <td>28.6</td>\n",
       "      <td>1.481</td>\n",
       "      <td>1.552</td>\n",
       "      <td>2010</td>\n",
       "      <td>1</td>\n",
       "    </tr>\n",
       "    <tr>\n",
       "      <th>1</th>\n",
       "      <td>AK</td>\n",
       "      <td>West</td>\n",
       "      <td>2010.50</td>\n",
       "      <td>225511</td>\n",
       "      <td>160252</td>\n",
       "      <td>65259</td>\n",
       "      <td>28.9</td>\n",
       "      <td>1.484</td>\n",
       "      <td>1.576</td>\n",
       "      <td>2010</td>\n",
       "      <td>2</td>\n",
       "    </tr>\n",
       "    <tr>\n",
       "      <th>2</th>\n",
       "      <td>AK</td>\n",
       "      <td>West</td>\n",
       "      <td>2009.75</td>\n",
       "      <td>225820</td>\n",
       "      <td>163791</td>\n",
       "      <td>62029</td>\n",
       "      <td>27.5</td>\n",
       "      <td>1.486</td>\n",
       "      <td>1.494</td>\n",
       "      <td>2009</td>\n",
       "      <td>3</td>\n",
       "    </tr>\n",
       "    <tr>\n",
       "      <th>3</th>\n",
       "      <td>AK</td>\n",
       "      <td>West</td>\n",
       "      <td>2010.00</td>\n",
       "      <td>224994</td>\n",
       "      <td>161787</td>\n",
       "      <td>63207</td>\n",
       "      <td>28.1</td>\n",
       "      <td>1.481</td>\n",
       "      <td>1.524</td>\n",
       "      <td>2009</td>\n",
       "      <td>4</td>\n",
       "    </tr>\n",
       "    <tr>\n",
       "      <th>4</th>\n",
       "      <td>AK</td>\n",
       "      <td>West</td>\n",
       "      <td>2008.00</td>\n",
       "      <td>234590</td>\n",
       "      <td>155400</td>\n",
       "      <td>79190</td>\n",
       "      <td>33.8</td>\n",
       "      <td>1.544</td>\n",
       "      <td>1.885</td>\n",
       "      <td>2007</td>\n",
       "      <td>4</td>\n",
       "    </tr>\n",
       "  </tbody>\n",
       "</table>\n",
       "</div>"
      ],
      "text/plain": [
       "  State region     Date  Home.Value  Structure.Cost  Land.Value  \\\n",
       "0    AK   West  2010.25      224952          160599       64352   \n",
       "1    AK   West  2010.50      225511          160252       65259   \n",
       "2    AK   West  2009.75      225820          163791       62029   \n",
       "3    AK   West  2010.00      224994          161787       63207   \n",
       "4    AK   West  2008.00      234590          155400       79190   \n",
       "\n",
       "   Land.Share..Pct.  Home.Price.Index  Land.Price.Index  Year  Qrtr  \n",
       "0              28.6             1.481             1.552  2010     1  \n",
       "1              28.9             1.484             1.576  2010     2  \n",
       "2              27.5             1.486             1.494  2009     3  \n",
       "3              28.1             1.481             1.524  2009     4  \n",
       "4              33.8             1.544             1.885  2007     4  "
      ]
     },
     "execution_count": 50,
     "metadata": {},
     "output_type": "execute_result"
    }
   ],
   "source": [
    "FNAME = \"http://tutorials.iq.harvard.edu/R/Rgraphics/dataSets/landdata-states.csv\"\n",
    "df = pd.read_csv(FNAME)\n",
    "df.head()"
   ]
  }
 ],
 "metadata": {
  "kernelspec": {
   "display_name": "Python 3",
   "language": "python",
   "name": "python3"
  },
  "language_info": {
   "codemirror_mode": {
    "name": "ipython",
    "version": 3
   },
   "file_extension": ".py",
   "mimetype": "text/x-python",
   "name": "python",
   "nbconvert_exporter": "python",
   "pygments_lexer": "ipython3",
   "version": "3.6.5"
  }
 },
 "nbformat": 4,
 "nbformat_minor": 2
}
