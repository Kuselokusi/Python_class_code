{
 "cells": [
  {
   "cell_type": "markdown",
   "metadata": {},
   "source": [
    "# Tutorial 2\n",
    "\n",
    "In this tutorial, we'll cover the basics of Python. After this tutorial you should be able to:\n",
    "\n",
    "1. Object oriented programming examples\n",
    "2. Inheritance\n",
    "3. Abstract base classes\n",
    "\n",
    "### Object oriented programming\n",
    "\n",
    "Everything in Python is an object. Learning Python is therefore synonymous with learning how to work with objects. Objects represent data types or structures which jointly store data and action/code. Python and OOP, generally, has four building blocks\n",
    "\n",
    "- Classes: blueprint to create objects\n",
    "- Objects: instance of a class with attributes and methods\n",
    "- Attributes: features unique to a class and all instances of the class\n",
    "- Methods: functions unique to a class and all instances of the class\n",
    "\n",
    "Let's get started!\n",
    "\n",
    "In the last lesson we spoke about methods for strings, integers, numpy arrays and pandas data frames. We defined methods as functions that are specific to a type of item, or object."
   ]
  },
  {
   "cell_type": "code",
   "execution_count": 33,
   "metadata": {},
   "outputs": [
    {
     "name": "stdout",
     "output_type": "stream",
     "text": [
      "2\n",
      "[1, 2, 3, 4, 5]\n",
      "[5, 4, 3, 2, 1]\n"
     ]
    }
   ],
   "source": [
    "#string methods\n",
    "\n",
    "my_string = \"hello\"\n",
    "\n",
    "print(my_string.count(\"l\"))\n",
    "\n",
    "#list methods\n",
    "\n",
    "my_list = [1, 2, 3, 4]\n",
    "\n",
    "my_list.append(5)\n",
    "\n",
    "print(my_list)\n",
    "\n",
    "my_list.reverse()\n",
    "\n",
    "print(my_list)"
   ]
  },
  {
   "cell_type": "markdown",
   "metadata": {},
   "source": [
    "These methods are unique to objects born out of the integer and list class. A class simply represents a blueprint or instruction manuel for creating objects. All objects are created from classes and objects represent specific instances of a class.\n",
    "\n",
    "Classes all have the same structure"
   ]
  },
  {
   "cell_type": "code",
   "execution_count": 34,
   "metadata": {},
   "outputs": [],
   "source": [
    "class ClassName():\n",
    "       \n",
    "    class_feat = \"example\"\n",
    "       \n",
    "    def __init__(self, arg1, arg2):\n",
    "        self.arg1 = arg1\n",
    "        self.arg2 = arg2       \n",
    "        \n",
    "    def some_method(self):        \n",
    "        print(self.arg1)"
   ]
  },
  {
   "cell_type": "markdown",
   "metadata": {},
   "source": [
    "We give the class some name, possibly a class specific attribute and add some methods. Note like with functions in the previous lesson, we use the <code>def</code> keyword. Unlike our functions from tutorial one, these functions are now nested within a class, i.e they are a special class of function, called *methods*, in that they are only accessible inside of the class.\n",
    "\n",
    "Let's revisit the example from class and create a basic cat class, which we'll use to create cat objects."
   ]
  },
  {
   "cell_type": "code",
   "execution_count": 35,
   "metadata": {},
   "outputs": [],
   "source": [
    "class Cat():\n",
    "    pass"
   ]
  },
  {
   "cell_type": "markdown",
   "metadata": {},
   "source": [
    "I can now create a cat object by calling the class and assigning it to a variable name. I can evaluate the type and see that the object <code>my_cat</code> belongs to the Cat class. Put alternatively, my_cat is an instance of the Cat class"
   ]
  },
  {
   "cell_type": "code",
   "execution_count": 36,
   "metadata": {},
   "outputs": [
    {
     "data": {
      "text/plain": [
       "__main__.Cat"
      ]
     },
     "execution_count": 36,
     "metadata": {},
     "output_type": "execute_result"
    }
   ],
   "source": [
    "my_cat = Cat()\n",
    "type(my_cat)"
   ]
  },
  {
   "cell_type": "markdown",
   "metadata": {},
   "source": [
    "Let's assign a class attribute. We use the term _class_ in that the attribute is the same for all instances, and the term _attribute_ refers to a variable or feature specific to the class we are creating"
   ]
  },
  {
   "cell_type": "code",
   "execution_count": 37,
   "metadata": {},
   "outputs": [],
   "source": [
    "class Cat():\n",
    "    \n",
    "    species = \"mammal\""
   ]
  },
  {
   "cell_type": "code",
   "execution_count": 38,
   "metadata": {},
   "outputs": [
    {
     "data": {
      "text/plain": [
       "'mammal'"
      ]
     },
     "execution_count": 38,
     "metadata": {},
     "output_type": "execute_result"
    }
   ],
   "source": [
    "my_cat = Cat()\n",
    "\n",
    "my_cat.species"
   ]
  },
  {
   "cell_type": "markdown",
   "metadata": {},
   "source": [
    "Note, when we call the atrribute species, <code>my_cat.species</code> we did not use () - this is because we are calling an attribute and not a method. What if our class has certain attributes that were different to each instantiation? While all cats are mammals, cats have different names and colours. We can think of these as _instance specific_ attributes - each object must have these attributes, but they can differ for each object. To do this we use a special method in Python called <code>__init__</code>. We use <code>__init__</code> to initialize specific instances of our class and together with the use of <code>self</code>, we are able to set instance specific attributes."
   ]
  },
  {
   "cell_type": "code",
   "execution_count": 39,
   "metadata": {},
   "outputs": [],
   "source": [
    "class Cat():\n",
    "       \n",
    "    species = \"mammal\"\n",
    "    \n",
    "    def __init__(self, name, color):\n",
    "        self.name = name\n",
    "        self.color = color        "
   ]
  },
  {
   "cell_type": "markdown",
   "metadata": {},
   "source": [
    "<code>self</code> here has a special meaning: it refers to the instance currently being instantiated. Alternatively, we could think of _self_ as also having a similar meaning to _this_ - do something for _this_ specific cat. The Python convention is to always use <code>self</code> and stick to this! In this case, we've passed <code>self</code> as an argument to the <code>__init__</code> method - we need to do this to be able to access <code>self</code>. We then set two additional parameters <code>name</code> and <code>color</code> - this means that every new instance of the cat class must have a name and a color. Using <code>self.name</code> we are able to assign the argument <code>name</code> to an attribute <code>name</code>, which belongs to the specific instance of a cat <code>self.name</code>. If we don't provide these inputs, Python throws an error"
   ]
  },
  {
   "cell_type": "code",
   "execution_count": 40,
   "metadata": {},
   "outputs": [
    {
     "ename": "TypeError",
     "evalue": "__init__() missing 2 required positional arguments: 'name' and 'color'",
     "output_type": "error",
     "traceback": [
      "\u001b[0;31m---------------------------------------------------------------------------\u001b[0m",
      "\u001b[0;31mTypeError\u001b[0m                                 Traceback (most recent call last)",
      "\u001b[0;32m<ipython-input-40-67154fefad99>\u001b[0m in \u001b[0;36m<module>\u001b[0;34m()\u001b[0m\n\u001b[0;32m----> 1\u001b[0;31m \u001b[0mmy_cat\u001b[0m \u001b[0;34m=\u001b[0m \u001b[0mCat\u001b[0m\u001b[0;34m(\u001b[0m\u001b[0;34m)\u001b[0m\u001b[0;34m\u001b[0m\u001b[0m\n\u001b[0m",
      "\u001b[0;31mTypeError\u001b[0m: __init__() missing 2 required positional arguments: 'name' and 'color'"
     ]
    }
   ],
   "source": [
    "my_cat = Cat()"
   ]
  },
  {
   "cell_type": "code",
   "execution_count": null,
   "metadata": {},
   "outputs": [],
   "source": [
    "my_cat = Cat(\"Garfield\", \"Orange\")"
   ]
  },
  {
   "cell_type": "code",
   "execution_count": null,
   "metadata": {},
   "outputs": [],
   "source": [
    "print(my_cat.name)\n",
    "print(my_cat.color)\n",
    "print(my_cat.species)"
   ]
  },
  {
   "cell_type": "code",
   "execution_count": null,
   "metadata": {},
   "outputs": [],
   "source": [
    "my_new_cat = Cat(\"Kitty\", \"Black\")"
   ]
  },
  {
   "cell_type": "code",
   "execution_count": null,
   "metadata": {},
   "outputs": [],
   "source": [
    "print(my_cat.species)\n",
    "print(my_new_cat.species)"
   ]
  },
  {
   "cell_type": "code",
   "execution_count": null,
   "metadata": {},
   "outputs": [],
   "source": [
    "print(my_cat.name)\n",
    "print(my_new_cat.name)"
   ]
  },
  {
   "cell_type": "markdown",
   "metadata": {},
   "source": [
    "Note what we've just done in the last few codebocks. We've created to instances of the cat class, or two objects of type cat. These objects share a common attribute but have instance specific names and colors. Note however, that we could have also added a class specific attrbiute within <code>__init__</code> too"
   ]
  },
  {
   "cell_type": "code",
   "execution_count": null,
   "metadata": {},
   "outputs": [],
   "source": [
    "class Cat():\n",
    "       \n",
    "    def __init__(self, name, color):\n",
    "        self.species = \"mammal\"\n",
    "        self.name = name\n",
    "        self.color = color  "
   ]
  },
  {
   "cell_type": "markdown",
   "metadata": {},
   "source": [
    "While I now use <code>self.species</code> instead <code>species</code>, the outcome is equivalent since <code>self.species</code> is assigned with a static string. Next, we'll add a new method to change the name of our cat. Not that since I also pass <code>self</code> as a parameter to this new method, I am able to alter <code>self.name</code>"
   ]
  },
  {
   "cell_type": "code",
   "execution_count": null,
   "metadata": {},
   "outputs": [],
   "source": [
    "class Cat():\n",
    "       \n",
    "    species = \"mammal\"\n",
    "    \n",
    "    def __init__(self, name, color):\n",
    "        self.name = name\n",
    "        self.color = color\n",
    "            \n",
    "    def change_name(self):\n",
    "        self.name = 'KitKat'"
   ]
  },
  {
   "cell_type": "code",
   "execution_count": null,
   "metadata": {},
   "outputs": [],
   "source": [
    "my_cat = Cat(\"Garfield\", \"Orange\")\n",
    "\n",
    "print(my_cat.name)\n",
    "\n",
    "print(my_cat.change_name)\n",
    "\n",
    "print(my_cat.name)\n",
    "\n",
    "my_cat.change_name()\n",
    "\n",
    "print(my_cat.name)"
   ]
  },
  {
   "cell_type": "markdown",
   "metadata": {},
   "source": [
    "We spoke about how <code>__init__</code> represents a special method in Python. We know this given the underscores's. There are a range of these special methods. Let's explore one <code>str</code>. Let's say we wanted to print our cat object:"
   ]
  },
  {
   "cell_type": "code",
   "execution_count": null,
   "metadata": {},
   "outputs": [],
   "source": [
    "print(my_cat)"
   ]
  },
  {
   "cell_type": "markdown",
   "metadata": {},
   "source": [
    "What we see is that the print statement has given us the type of our object as well as some information as to where this is stored. But what if I wanted print to actually tell me something about our cat? The reason print outputs what it does is that since print is expecting a string, when it sees something of type Cat, it's unsure as to what to do and simply then prints the type. The special method <code>__str__</code> help us out here. <code>__str__</code> allows us to specify an action when a string native method calls our Cat object."
   ]
  },
  {
   "cell_type": "code",
   "execution_count": 8,
   "metadata": {},
   "outputs": [],
   "source": [
    "class Cat():\n",
    "       \n",
    "    species = \"mammal\"\n",
    "    \n",
    "    def __init__(self, name, color):\n",
    "        self.name = name\n",
    "        self.color = color\n",
    "            \n",
    "    def change_name(self):\n",
    "        self.name = 'KitKat'\n",
    "        \n",
    "    def __str__(self):\n",
    "        return \"Name: \" + self.name + \", color: \" + self.color"
   ]
  },
  {
   "cell_type": "code",
   "execution_count": 9,
   "metadata": {},
   "outputs": [
    {
     "name": "stdout",
     "output_type": "stream",
     "text": [
      "Name: Garfield, color: Orange\n"
     ]
    }
   ],
   "source": [
    "my_cat = Cat(\"Garfield\", \"Orange\")\n",
    "\n",
    "print(my_cat)"
   ]
  },
  {
   "cell_type": "markdown",
   "metadata": {},
   "source": [
    "Now, when we call <code>print</code> it prints our some information about our cat. What <code>__str__</code> has effetively done is provide instructions to <code>print</code> as to what to do with our Cat object. Now let's say we wanted to add another animal, say a Dog. We could simply do this"
   ]
  },
  {
   "cell_type": "code",
   "execution_count": null,
   "metadata": {},
   "outputs": [],
   "source": [
    "class Cat():      \n",
    "    \n",
    "    def __init__(self, name, color):\n",
    "        self.name = name\n",
    "        self.color = color\n",
    "\n",
    "class Dog():      \n",
    "    \n",
    "    def __init__(self, name, color):\n",
    "        self.name = name\n",
    "        self.color = color"
   ]
  },
  {
   "cell_type": "markdown",
   "metadata": {},
   "source": [
    "This is both cumbersome and inefficient - what if we wanted to create 50 more types of animals? Would we have to copy paste this code 50 times? Python and OOP languages give us a really nice way to deal with this, namely *inheritance*, which allows classes to take on or _inherit_ the attributes and methods of other classes. Inheritance is often used within a _parent and child_ or _class and subclass_ structure. Let's look at an example. All cats are animals. In this way, we can create an animal class (parent) and have the cat class (child) inherit the animal class"
   ]
  },
  {
   "cell_type": "code",
   "execution_count": null,
   "metadata": {},
   "outputs": [],
   "source": [
    "class Animal():      \n",
    "    \n",
    "    def __init__(self, name, color):\n",
    "        self.name = name\n",
    "        self.color = color\n",
    "\n",
    "class Cat(Animal):             \n",
    "    pass"
   ]
  },
  {
   "cell_type": "markdown",
   "metadata": {},
   "source": [
    "A dog also represents an animal - to create a dog class, we simply have it inherit from the animal parent class too. In fact, we can now trivially add as many animal subclasses as we like and re-use the code in the animal class efficiently, without copy-pasting it over and over again"
   ]
  },
  {
   "cell_type": "code",
   "execution_count": null,
   "metadata": {},
   "outputs": [],
   "source": [
    "class Animal():      \n",
    "    \n",
    "    def __init__(self, name, color):\n",
    "        self.name = name\n",
    "        self.color = color\n",
    "        \n",
    "class Cat(Animal):\n",
    "    \n",
    "    def meow(self):\n",
    "        return \"Meow! My name is \" + self.name\n",
    "        \n",
    "class Dog(Animal):      \n",
    "    \n",
    "    def bark(self):\n",
    "        return \"Woof! My name is \" + self.name"
   ]
  },
  {
   "cell_type": "markdown",
   "metadata": {},
   "source": [
    "Now, cats have a specific method <code>meow</code> and dogs have a specific method <code>bark</code>, while sharing the common attributes of all animals."
   ]
  },
  {
   "cell_type": "code",
   "execution_count": null,
   "metadata": {},
   "outputs": [],
   "source": [
    "garfield = Cat('Garfield', 'Orange')\n",
    "print(garfield.meow())\n",
    "\n",
    "#garfield.bark()\n",
    "\n",
    "lassie = Dog('Lassie', 'Brown')\n",
    "print(lassie.bark())\n",
    "    \n",
    "#lassie.meow()"
   ]
  },
  {
   "cell_type": "markdown",
   "metadata": {},
   "source": [
    "*Let's recap*\n",
    "\n",
    "1. OOP allows us to store data and action together - *encapsulation*\n",
    "2. OOP allows us to have classes inherit functionality from other classes - *inheritance*\n",
    "\n",
    "Let's now look at some more examples."
   ]
  },
  {
   "cell_type": "markdown",
   "metadata": {},
   "source": [
    "Imagine you are a developer at a bank and are tasked with writing a basic program to allow a user to create a bank account into which he/she can deposit and withdraw money. How would we go about this? Firstly, we'll want to name the class"
   ]
  },
  {
   "cell_type": "code",
   "execution_count": null,
   "metadata": {},
   "outputs": [],
   "source": [
    "class Account:\n",
    "    pass"
   ]
  },
  {
   "cell_type": "markdown",
   "metadata": {},
   "source": [
    "Next, we'll want to assign some attributes. We know that each account needs an _owner_ to be a valid account. Also, we want to give the user the ability to deposit some money into the account if they choose. We also know that the user and the balance (what the user chooses to deposit) will be specific to the user him/herself."
   ]
  },
  {
   "cell_type": "code",
   "execution_count": null,
   "metadata": {},
   "outputs": [],
   "source": [
    "class Account:\n",
    "    \n",
    "    def __init__(self,owner,balance=0):\n",
    "        self.owner = owner\n",
    "        self.balance = balance      "
   ]
  },
  {
   "cell_type": "markdown",
   "metadata": {},
   "source": [
    "Great, we can now go ahead and create our first account"
   ]
  },
  {
   "cell_type": "code",
   "execution_count": null,
   "metadata": {},
   "outputs": [],
   "source": [
    "my_account = Account(\"John\", 100)\n",
    "print(my_account.owner)\n",
    "print(my_account.balance)"
   ]
  },
  {
   "cell_type": "markdown",
   "metadata": {},
   "source": [
    "Let's add a deposit method. Firstly, we know that the deposit method will change the value of balance, as a result, we want to pass <code>self</code> as a parameter to be able to change <code>self.balance</code>. We'll also require one more argument, let's call it amount, which represents the amount to be deposited"
   ]
  },
  {
   "cell_type": "code",
   "execution_count": null,
   "metadata": {},
   "outputs": [],
   "source": [
    "class Account:\n",
    "    \n",
    "    def __init__(self,owner,balance=0):\n",
    "        self.owner = owner\n",
    "        self.balance = balance\n",
    "         \n",
    "    def deposit(self,dep_amount):\n",
    "        self.balance = self.balance + dep_amount\n",
    "        print('Deposit Accepted')        "
   ]
  },
  {
   "cell_type": "markdown",
   "metadata": {},
   "source": [
    "Now let's add the withdraw method. We once again need to pass <code>self</code> since a withdrawl will lessen the balance and we need to an amount to be withdrawn."
   ]
  },
  {
   "cell_type": "code",
   "execution_count": null,
   "metadata": {},
   "outputs": [],
   "source": [
    "class Account:\n",
    "    \n",
    "    def __init__(self ,owner, balance=0):\n",
    "        self.owner = owner\n",
    "        self.balance = balance\n",
    "\n",
    "    def deposit(self, dep_amount):\n",
    "        self.balance = self.balance + dep_amount\n",
    "        print('Deposit Accepted') \n",
    "        \n",
    "    def withdraw(self, wd_amount):\n",
    "        self.balance = self.balance - wd_amount\n",
    "        print('Withdrawal Accepted') "
   ]
  },
  {
   "cell_type": "markdown",
   "metadata": {},
   "source": [
    "What is the problem we have here? Well, someone could withdraw an amount larger than their balance"
   ]
  },
  {
   "cell_type": "code",
   "execution_count": null,
   "metadata": {},
   "outputs": [],
   "source": [
    "my_account = Account(\"John\", 100)\n",
    "print(my_account.balance)\n",
    "my_account.withdraw(200)\n",
    "print(my_account.balance)"
   ]
  },
  {
   "cell_type": "markdown",
   "metadata": {},
   "source": [
    "Since we can't have a negative balance, we'll need to check if the user has sufficient funds available and if not print a message letting them know."
   ]
  },
  {
   "cell_type": "code",
   "execution_count": null,
   "metadata": {},
   "outputs": [],
   "source": [
    "class Account:\n",
    "    \n",
    "    def __init__(self, owner, balance=0):\n",
    "        self.owner = owner\n",
    "        self.balance = balance\n",
    "\n",
    "    def deposit(self, dep_amount):\n",
    "        self.balance = self.balance + dep_amount\n",
    "        print('Deposit Accepted') \n",
    "        \n",
    "    def withdraw(self, wd_amount):\n",
    "        if self.balance >= wd_amount:\n",
    "            self.balance = self.balance - wd_amount\n",
    "            print('Withdrawal Accepted') \n",
    "        else:\n",
    "            print('Insufficient funds!')"
   ]
  },
  {
   "cell_type": "markdown",
   "metadata": {},
   "source": [
    "In the last example we'll cover, we'll use inheritance to help us effectively re-use code. Let's create a car class. All car's have a make, belong to an owner, have a fuel tank and incur mileage"
   ]
  },
  {
   "cell_type": "code",
   "execution_count": null,
   "metadata": {},
   "outputs": [],
   "source": [
    "class Car:\n",
    "    \n",
    "    def __init__(self, make, owner):\n",
    "        self.make = make\n",
    "        self.owner = owner\n",
    "        self.tank = 100\n",
    "        self.mileage = 0"
   ]
  },
  {
   "cell_type": "markdown",
   "metadata": {},
   "source": [
    "We have very basic cars, which all have the same tank size of 100 litres and are created new, i.e 0 mileage. What would we need the car to do? Well, firstly, the car need to be able to drive"
   ]
  },
  {
   "cell_type": "code",
   "execution_count": null,
   "metadata": {},
   "outputs": [],
   "source": [
    "class Car:\n",
    "    \n",
    "    def __init__(self, make, owner):\n",
    "        self.make = make\n",
    "        self.owner = owner\n",
    "        self.tank = 100\n",
    "        self.mileage = 0\n",
    "    \n",
    "    def drive(self, distance):\n",
    "        self.mileage += distance\n",
    "        print(\"Driving\")"
   ]
  },
  {
   "cell_type": "markdown",
   "metadata": {},
   "source": [
    "However, we need to keep track of fuel consumption. Let's say that 1km driven used 0.5 litres of fuel. Now we need to check if there is sufficient fuel before we can actually drive and once we drive, we need to decrease the fuel in our tank"
   ]
  },
  {
   "cell_type": "code",
   "execution_count": null,
   "metadata": {},
   "outputs": [],
   "source": [
    "class Car:\n",
    "    \n",
    "    def __init__(self, make, owner):\n",
    "        self.make = make\n",
    "        self.owner = owner\n",
    "        self.tank = 100\n",
    "        self.mileage = 0\n",
    "    \n",
    "    def drive(self, distance):\n",
    "        if distance*0.5 > 100:\n",
    "            print(\"Trip too long\")\n",
    "        elif self.tank >= distance*0.5:\n",
    "            self.mileage += distance\n",
    "            self.tank -= distance*0.5\n",
    "        else:\n",
    "            print(\"Insufficient fuel. Please fill up car\")"
   ]
  },
  {
   "cell_type": "code",
   "execution_count": null,
   "metadata": {},
   "outputs": [],
   "source": [
    "my_car = Car(\"Mazda\", \"John\")\n",
    "print(my_car.tank)\n",
    "print(my_car.mileage)\n",
    "\n",
    "my_car.drive(100)\n",
    "\n",
    "print(my_car.tank)\n",
    "print(my_car.mileage)\n",
    "\n",
    "my_car.drive(101)\n",
    "\n",
    "print(my_car.tank)\n",
    "print(my_car.mileage)"
   ]
  },
  {
   "cell_type": "markdown",
   "metadata": {},
   "source": [
    "Since we need to refuel, we'll need a method for that"
   ]
  },
  {
   "cell_type": "code",
   "execution_count": null,
   "metadata": {},
   "outputs": [],
   "source": [
    "class Car:\n",
    "    \n",
    "    def __init__(self, make, owner):\n",
    "        self.make = make\n",
    "        self.owner = owner\n",
    "        self.tank = 100\n",
    "        self.mileage = 0\n",
    "    \n",
    "    def drive(self, distance):\n",
    "        if distance*0.5 > 100:\n",
    "            print(\"Trip too long\")\n",
    "        elif self.tank >= distance*0.5:\n",
    "            self.mileage += distance\n",
    "            self.tank -= distance*0.5\n",
    "        else:\n",
    "            print(\"Insufficient fuel. Please fill up car\")\n",
    "    \n",
    "    def refuel(self, fuel_amount=0):\n",
    "        if fuel_amount + self.tank > 100:\n",
    "            print(\"Too much fuel - try again\")\n",
    "        else:\n",
    "            self.tank += fuel_amount"
   ]
  },
  {
   "cell_type": "code",
   "execution_count": null,
   "metadata": {},
   "outputs": [],
   "source": [
    "my_car = Car(\"Mazda\", \"John\")\n",
    "print(my_car.tank)\n",
    "print(my_car.mileage)\n",
    "\n",
    "my_car.drive(100)\n",
    "\n",
    "print(my_car.tank)\n",
    "print(my_car.mileage)\n",
    "\n",
    "my_car.drive(101)\n",
    "\n",
    "my_car.refuel(50)\n",
    "print(my_car.tank)\n",
    "\n",
    "my_car.drive(101)"
   ]
  },
  {
   "cell_type": "markdown",
   "metadata": {},
   "source": [
    "What if we wanted to add a motorcycle? In this case, both motorcycles and cars are vehicles and have similar functionality. Let's create a vehicle parent class."
   ]
  },
  {
   "cell_type": "code",
   "execution_count": 2,
   "metadata": {},
   "outputs": [],
   "source": [
    "class Vehicle():\n",
    "    \n",
    "    def __init__(self, make, owner):\n",
    "        self.make = make\n",
    "        self.owner = owner\n",
    "        self.mileage = 0"
   ]
  },
  {
   "cell_type": "markdown",
   "metadata": {},
   "source": [
    "We however still need to implement the drive and refuel methods for a car and for a motorcycle, since they do this differently. Let's assume a motorcycle's tank is 50 litres and it is far more fuel efficient than a car, being able to drive 1km and only use 0.15 litres of fuel. Also, let's give motorcycles *a tank size which can vary*. The last bit is something new - we now have to use <code>__init__</code> to create an instance specific tank for motorcycles, while still inheriting from the vehicle class. Note how we implement this below"
   ]
  },
  {
   "cell_type": "code",
   "execution_count": 7,
   "metadata": {},
   "outputs": [],
   "source": [
    "class Car(Vehicle):\n",
    "   \n",
    "    tank = 100\n",
    "    \n",
    "    def drive(self, distance):\n",
    "        if distance*0.5 > 100:\n",
    "            print(\"Trip too long\")\n",
    "        elif self.tank >= distance*0.5:\n",
    "            self.mileage += distance\n",
    "            self.tank -= distance*0.5\n",
    "        else:\n",
    "            print(\"Insufficient fuel. Please fill up car\")\n",
    "    \n",
    "    def refuel(self, fuel_amount=0):\n",
    "        if fuel_amount + self.tank > 100:\n",
    "            print(\"Too much fuel - try again\")\n",
    "        else:\n",
    "            self.tank += fuel_amount        \n",
    "            \n",
    "class Motorcycle(Vehicle):\n",
    "   \n",
    "    def __init__(self, make, owner, tank):\n",
    "        Vehicle.__init__(self, make, owner)\n",
    "        self.tank = tank\n",
    "        self.tank_size = tank\n",
    "    \n",
    "    def drive(self, distance):\n",
    "        if distance*0.15 > self.tank_size:\n",
    "            print(\"Trip too long\")\n",
    "        elif self.tank >= distance*0.15:\n",
    "            self.mileage += distance\n",
    "            self.tank -= distance*0.15\n",
    "        else:\n",
    "            print(\"Insufficient fuel. Please fill up car\")\n",
    "    \n",
    "    def refuel(self, fuel_amount=0):\n",
    "        if fuel_amount + self.tank > self.tank_size:\n",
    "            print(\"Too much fuel - try again\")\n",
    "        else:\n",
    "            self.tank += fuel_amount  "
   ]
  },
  {
   "cell_type": "code",
   "execution_count": 5,
   "metadata": {},
   "outputs": [
    {
     "name": "stdout",
     "output_type": "stream",
     "text": [
      "100\n",
      "75.0\n"
     ]
    }
   ],
   "source": [
    "my_car = Car(\"Mazda\", \"John\")\n",
    "print(my_car.tank)\n",
    "\n",
    "my_car.drive(50)\n",
    "\n",
    "print(my_car.tank)"
   ]
  },
  {
   "cell_type": "code",
   "execution_count": null,
   "metadata": {},
   "outputs": [],
   "source": [
    "my_motorcycle = Motorcycle(\"Suzuki\", \"Steve\", 50)\n",
    "\n",
    "print(my_motorcycle.tank)\n",
    "\n",
    "my_motorcycle.drive(50)\n",
    "\n",
    "print(my_motorcycle.tank)"
   ]
  },
  {
   "cell_type": "markdown",
   "metadata": {},
   "source": [
    "In our base class, we stipulated that all vehicles need to have a make and an owner. However, apart from these attributes, a valid vehicle also needs to have to be able to drive and refuel. Currently we could create a vehicle without these methods"
   ]
  },
  {
   "cell_type": "code",
   "execution_count": null,
   "metadata": {},
   "outputs": [],
   "source": [
    "class FakeCar(Vehicle):\n",
    "    pass"
   ]
  },
  {
   "cell_type": "code",
   "execution_count": null,
   "metadata": {},
   "outputs": [],
   "source": [
    "my_fake_car = FakeCar(\"Fake\", \"Paul\")\n",
    "type(my_fake_car)"
   ]
  },
  {
   "cell_type": "markdown",
   "metadata": {},
   "source": [
    "As you can see, we've been able to create a new subclass of the vehicle class that can't drive or refuel. Let's fix this with an abstract base class"
   ]
  },
  {
   "cell_type": "code",
   "execution_count": null,
   "metadata": {},
   "outputs": [],
   "source": [
    "from abc import ABC, abstractmethod\n",
    "\n",
    "class BaseVehicle(ABC):\n",
    "    \n",
    "    @abstractmethod\n",
    "    def drive(self):\n",
    "        pass\n",
    "    \n",
    "    @abstractmethod\n",
    "    def refuel(self):\n",
    "        pass\n",
    "\n",
    "class Car(BaseVehicle,Vehicle):\n",
    "   \n",
    "    tank = 100\n",
    "    \n",
    "    def drive(self, distance):\n",
    "        if distance*0.5 > 100:\n",
    "            print(\"Trip too long\")\n",
    "        elif self.tank >= distance*0.5:\n",
    "            self.mileage += distance\n",
    "            self.tank -= distance*0.5\n",
    "        else:\n",
    "            print(\"Insufficient fuel. Please fill up car\")\n",
    "    \n",
    "    def refuel(self, fuel_amount=0):\n",
    "        if fuel_amount + self.tank > 100:\n",
    "            print(\"Too much fuel - try again\")\n",
    "        else:\n",
    "            self.tank += fuel_amount            \n",
    "            \n",
    "class Motorcycle(BaseVehicle, Vehicle):\n",
    "   \n",
    "    def __init__(self, make, owner, tank):\n",
    "        Vehicle.__init__(self, make, owner)\n",
    "        self.tank = tank\n",
    "        self.tank_size = tank\n",
    "    \n",
    "    def drive(self, distance):\n",
    "        if distance*0.15 > self.tank_size:\n",
    "            print(\"Trip too long\")\n",
    "        elif self.tank >= distance*0.15:\n",
    "            self.mileage += distance\n",
    "            self.tank -= distance*0.15\n",
    "        else:\n",
    "            print(\"Insufficient fuel. Please fill up car\")\n",
    "    \n",
    "    def refuel(self, fuel_amount=0):\n",
    "        if fuel_amount + self.tank > self.tank_size:\n",
    "            print(\"Too much fuel - try again\")\n",
    "        else:\n",
    "            self.tank += fuel_amount "
   ]
  },
  {
   "cell_type": "markdown",
   "metadata": {},
   "source": [
    "Now, if we try and create the FakeCar subclass as before, we run into an error - it cannot be a vehicle without the methods drive and refuel"
   ]
  },
  {
   "cell_type": "code",
   "execution_count": null,
   "metadata": {},
   "outputs": [],
   "source": [
    "class FakeCar(BaseVehicle, Vehicle):\n",
    "    pass\n",
    "\n",
    "my_fake_car = FakeCar(\"Fake\", \"Paul\")"
   ]
  },
  {
   "cell_type": "code",
   "execution_count": null,
   "metadata": {},
   "outputs": [],
   "source": [
    "class Truck(BaseVehicle,Vehicle):\n",
    "   \n",
    "    tank = 200\n",
    "    \n",
    "    def drive(self, distance):\n",
    "        if distance*0.75 > 200:\n",
    "            print(\"Trip too long\")\n",
    "        elif self.tank >= distance*0.75:\n",
    "            self.mileage += distance\n",
    "            self.tank -= distance*0.75\n",
    "        else:\n",
    "            print(\"Insufficient fuel. Please fill up car\")\n",
    "    \n",
    "    def refuel(self, fuel_amount=0):\n",
    "        if fuel_amount + self.tank > 200:\n",
    "            print(\"Too much fuel - try again\")\n",
    "        else:\n",
    "            self.tank += fuel_amount  "
   ]
  },
  {
   "cell_type": "code",
   "execution_count": null,
   "metadata": {},
   "outputs": [],
   "source": [
    "my_truck = Truck(\"Toyota\", \"Bob\")\n",
    "type(my_truck)"
   ]
  },
  {
   "cell_type": "markdown",
   "metadata": {},
   "source": [
    "Does it make sense for the Car, Motorcycle and Truck to create vehicles? Maybe it would make more sense, say if cars were create by a car factory. However, a car and a car factory are fundamentally two different things. Remember though, that our created classes generate objects and a result we can treat these like ordinary objects. I can therefore call the Car() class to create a car within CarFactory. I can also store objects of type Car in a list or a dictionary. Let's give this a go."
   ]
  },
  {
   "cell_type": "code",
   "execution_count": null,
   "metadata": {},
   "outputs": [],
   "source": [
    "class CarFactory():\n",
    "    \n",
    "    def __init__(self):\n",
    "        self.cars_sold = {'Toyota': [], 'Mazda': [], 'Audi': []}\n",
    "    \n",
    "    def create_car(self, make, owner):\n",
    "        car_to_return = Car(make, owner)\n",
    "        self.cars_sold[make].append(car_to_return)\n",
    "\n",
    "        return car_to_return"
   ]
  },
  {
   "cell_type": "code",
   "execution_count": null,
   "metadata": {},
   "outputs": [],
   "source": [
    "my_factory = CarFactory()\n",
    "\n",
    "my_car = my_factory.create_car(\"Mazda\", \"John\")\n",
    "\n",
    "print(my_car.make)\n",
    "\n",
    "print(my_car.tank)\n",
    "\n",
    "my_car.drive(800)\n",
    "\n",
    "my_car.drive(100)\n",
    "\n",
    "print(my_car.tank)\n",
    "\n",
    "print(my_car.mileage)\n",
    "\n",
    "steve_car = my_factory.create_car(\"Mazda\", \"Steve\")\n",
    "\n",
    "peter_car = my_factory.create_car(\"Audi\", \"Peter\")"
   ]
  },
  {
   "cell_type": "markdown",
   "metadata": {},
   "source": [
    "Now when we look at CarFactory, we see that the cars sold dictionary has been updated!"
   ]
  },
  {
   "cell_type": "code",
   "execution_count": null,
   "metadata": {},
   "outputs": [],
   "source": [
    "my_factory.cars_sold"
   ]
  },
  {
   "cell_type": "code",
   "execution_count": null,
   "metadata": {},
   "outputs": [],
   "source": []
  }
 ],
 "metadata": {
  "kernelspec": {
   "display_name": "Python 3",
   "language": "python",
   "name": "python3"
  },
  "language_info": {
   "codemirror_mode": {
    "name": "ipython",
    "version": 3
   },
   "file_extension": ".py",
   "mimetype": "text/x-python",
   "name": "python",
   "nbconvert_exporter": "python",
   "pygments_lexer": "ipython3",
   "version": "3.6.5"
  }
 },
 "nbformat": 4,
 "nbformat_minor": 2
}
