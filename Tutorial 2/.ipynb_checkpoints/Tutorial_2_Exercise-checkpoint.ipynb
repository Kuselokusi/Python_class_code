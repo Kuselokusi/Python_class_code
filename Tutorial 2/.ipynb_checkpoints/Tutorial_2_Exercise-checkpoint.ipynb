{
 "cells": [
  {
   "cell_type": "markdown",
   "metadata": {},
   "source": [
    "# Tutorial 2 exercises\n",
    "\n",
    "In this tutorial we'll go one example which combines everything you've learnt in the tutorial 1 and 2."
   ]
  },
  {
   "cell_type": "markdown",
   "metadata": {},
   "source": [
    "You have to design  program to assist a bank employee to manage the accounts of customers. The instructions are as follows\n",
    "\n",
    "1. Create an account class which is created using an account number and an opening balance\n",
    "    - The account class should have three methods <code>withdraw</code>, <code>deposit</code> and a <code>__str__</code> which prints the account balance\n",
    "3. Create two subclasses of accounts, a cheque account and a savings account\n",
    "    - Each subclass should have a <code>__str__</code> method which prints appropriate message to let the user know the account type and the balance\n",
    "5. Create a customer class\n",
    "    - A customer requires a name and can hold a cheque and a savings account. Store these accounts in a dictionary where the key represents the type of account. Importantly, a customer is created without any accounts.\n",
    "    - A customer should be able to do three things (i) open a cheque account with a method <code>open_cheque</code> (ii) open a savings account with a method <code>open_savings</code> and (iii) print their balance with a method called <code>get_balance</code>\n",
    "    - To open an account, the customer needs to choose an account number and make an initial deposit. \n",
    "    - Once created, the account should be stored with all other accounts the customer holds in the dictionary \n",
    "    - <code>get_balance</code> should be one method which prints the balance of each individual account and the total balance of all accounts\n",
    "    - Lastly, the customer should have two additional methods called <code>make_withdrawl</code> and <code>make_deposit</code>\n",
    "    - These methods take as input (i) customer name (ii) the account type (iii) the account number (iv) the amount to be deposited/withdrawn\n",
    "    - Before you enable a deposit or withdrawl you should check that the account type and account number correspond\n",
    "    \n",
    "    \n",
    "*Hints*\n",
    "\n",
    "- You are able to create objects within another class: I can create a savings object inside of the customer class, for example. In other words, my customer methods can create accounts using the accounts class, i.e I can call Savings(\"1240590\", 500) inside of my customer class or any of it's methods. \n",
    "- Just like you can store integers, strings etc. in lists, tuples and dictionaries, you are also able to store other objects, even ones you've created yourself (like your accounts) in these structures too. I.e you can store an onject of type account in your customer's account dictionary\n",
    "- Use each customer's name as the variable name for each customer's object"
   ]
  },
  {
   "cell_type": "code",
   "execution_count": 76,
   "metadata": {},
   "outputs": [],
   "source": [
    "class account():\n",
    "    \n",
    "    def __init__(self, accNo, Balance=0):\n",
    "        self.accNo=accNo\n",
    "        self.Balance=Balance\n",
    "    \n",
    "    def __str__(self):\n",
    "        return(\"Account balance is \"+str(self.Balance))\n",
    "    \n",
    "    def withdraw(self, drawn_amount):\n",
    "        if self.Balance>=drawn_amount:\n",
    "            self.Balance= self.Balance - drawn_amount\n",
    "            print(\"Withdrawal successful, balance remaining: \" + 'R{:.2f}'.format(self.Balance))\n",
    "        else: \n",
    "            print(\"insufficient funds for withdrawal\")  \n",
    "            \n",
    "    def deposit(self, dep_amount):\n",
    "        self.Balance= self.Balance + dep_amount\n",
    "        print(\"deposit successful, new balance: \" + 'R{:.2f}'.format(self.Balance))\n",
    "    "
   ]
  },
  {
   "cell_type": "code",
   "execution_count": 77,
   "metadata": {},
   "outputs": [],
   "source": [
    "class cheque_account(account):\n",
    "    \n",
    "    account_type=\"Cheque account\"\n",
    "    \n",
    "    def __str__(self):\n",
    "        return(account.__str__(self) +\", Account type: \"+self.account_type)\n",
    "        \n",
    "class savings_account(account):\n",
    "    \n",
    "    account_type=\"Savings account\"\n",
    "        \n",
    "    def __str__(self):\n",
    "        return(account.__str__(self)+\", Account type: \"+self.account_type)"
   ]
  },
  {
   "cell_type": "code",
   "execution_count": 78,
   "metadata": {},
   "outputs": [
    {
     "name": "stdout",
     "output_type": "stream",
     "text": [
      "Withdrawal successful, balance remaining: R10.00\n",
      "101\n",
      "deposit successful, new balance: R20.00\n",
      "Account balance is 20, Account type: Cheque account\n"
     ]
    }
   ],
   "source": [
    "cheque1=cheque_account(101, 20)\n",
    "cheque1.withdraw(10)\n",
    "print(cheque1.accNo)\n",
    "cheque1.deposit(10)\n",
    "print(cheque1) #to check if __str__ method works"
   ]
  },
  {
   "cell_type": "code",
   "execution_count": 97,
   "metadata": {},
   "outputs": [],
   "source": [
    "import locale\n",
    "\n",
    "#class written under assumption that customer cannot have more than one of the same account\n",
    "class customer():\n",
    "    def __init__(self, name):\n",
    "        self.name = name\n",
    "        self.accounts_held={'Cheque account' : [],'Savings account' : []}\n",
    "        self.accNo_cheque=None;\n",
    "        self.accNo_savings=None;\n",
    "    \n",
    "    def open_cheque(self, accNo, Balance=0):\n",
    "        my_account=cheque_account(accNo, Balance)\n",
    "        if my_account.Balance == 0:\n",
    "            print(\"Please Make a deposit\")\n",
    "        else: \n",
    "            self.accNo_cheque = accNo\n",
    "            self.accounts_held[my_account.account_type].append(my_account.Balance) #balance stored as value in list\n",
    "    \n",
    "    def open_savings(self, accNo, Balance=0):\n",
    "        my_account=savings_account(accNo, Balance)\n",
    "        if my_account.Balance == 0:\n",
    "            print(\"Please Make a deposit\")\n",
    "        else: \n",
    "            self.accNo_savings = accNo\n",
    "            self.accounts_held[my_account.account_type].append(my_account.Balance) #balance stored as value in list\n",
    "    \n",
    "    def get_balance(self):\n",
    "        total=0\n",
    "        for key, value in self.accounts_held.items():\n",
    "            total += value[0]\n",
    "            print (key + ' has Balance: ' + 'R{:.2f}'.format(value[0]))\n",
    "        \n",
    "        print(\"Total in all accounts: \"+ 'R{:.2f}'.format(total))\n",
    "        \n",
    "    def make_withdrawl(self, cust_name, account_type, accNo, amount):\n",
    "        if (self.accNo_cheque == accNo) and (account_type == \"Cheque account\"):\n",
    "            accountHolder = cheque_account(accNo, self.accounts_held[account_type][0]) #using previous classes\n",
    "            accountHolder.withdraw(amount)\n",
    "        elif (self.accNo_savings == accNo) and (account_type == \"Savings account\"):\n",
    "            accountHolder = savings_account(accNo, self.accounts_held[account_type][0]) #using previous classes\n",
    "            accountHolder.withdraw(amount)\n",
    "        else: \n",
    "            print('Account details provided dont match our records')\n",
    "     \n",
    "    def make_deposit(self, cust_name, account_type, accNo, amount):\n",
    "        if (self.accNo_cheque == accNo) and (account_type == \"Cheque account\"):\n",
    "            accountHolder = cheque_account(accNo, self.accounts_held[account_type][0])\n",
    "            accountHolder.deposit(amount)\n",
    "        elif (self.accNo_savings == accNo) and (account_type == \"Savings account\"):\n",
    "            accountHolder = savings_account(accNo, self.accounts_held[account_type][0]) \n",
    "            accountHolder.deposit(amount)\n",
    "        else: \n",
    "            print('Account details provided dont match our records')"
   ]
  },
  {
   "cell_type": "code",
   "execution_count": 99,
   "metadata": {},
   "outputs": [
    {
     "name": "stdout",
     "output_type": "stream",
     "text": [
      "Cheque account has Balance: R20.00\n",
      "Savings account has Balance: R30.00\n",
      "Total in all accounts: R50.00\n",
      "insufficient funds for withdrawal\n",
      "deposit successful, new balance: R80.00\n"
     ]
    }
   ],
   "source": [
    "obj=customer(\"nono\")\n",
    "obj.open_cheque(101, 20)\n",
    "obj.open_savings(102, 30)\n",
    "obj.get_balance()\n",
    "\n",
    "obj.make_withdrawl(\"nono\", \"Savings account\", 102, 40)\n",
    "obj.make_deposit(\"nono\", \"Savings account\", 102, 50)"
   ]
  },
  {
   "cell_type": "code",
   "execution_count": null,
   "metadata": {},
   "outputs": [],
   "source": []
  }
 ],
 "metadata": {
  "kernelspec": {
   "display_name": "Python 3",
   "language": "python",
   "name": "python3"
  },
  "language_info": {
   "codemirror_mode": {
    "name": "ipython",
    "version": 3
   },
   "file_extension": ".py",
   "mimetype": "text/x-python",
   "name": "python",
   "nbconvert_exporter": "python",
   "pygments_lexer": "ipython3",
   "version": "3.6.5"
  }
 },
 "nbformat": 4,
 "nbformat_minor": 2
}
