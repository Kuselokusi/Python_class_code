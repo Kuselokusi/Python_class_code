{
 "cells": [
  {
   "cell_type": "markdown",
   "metadata": {},
   "source": [
    "# Tutorial 3 exercise\n",
    "\n",
    "In this tutorial we'll go one example which combines everything you've learnt in the tutorial 1, 2 & 3."
   ]
  },
  {
   "cell_type": "markdown",
   "metadata": {},
   "source": [
    "In a similar vein to tutorial 2, you have to design a program to assist a bank to manage the accounts of customers. You will be able to re-use some of your code, but we will also be adding some new functionality. This exercise involves a larger code base than your previous tutorials and represents something closer to a user interacting system than the previous tutorial.\n",
    "\n",
    "The instructions are as follows\n",
    "\n",
    "1. Create a bank class with the following functionality\n",
    "    - The ability to create customers\n",
    "    - The ability to store customers\n",
    "    - The ability to edit customer accounts (withdrawls, deposits)\n",
    "2. Create an account class which is created using an owner name, an account number, an account type and an opening balance\n",
    "    - Like before, there can be subclasses of accounts\n",
    "    - The account class should be able to return the balance of a given account\n",
    "    - The account class should be able to make transactions, namely withdraw and deposit\n",
    "    - The account class should also store a transaction history. The history should contain the amount _before_ the withdrawl/deposit, the _size_ of the withdrawl/deposit and the amount _after_ withdrawl/deposit\n",
    "3. Create a transaction class\n",
    "    - The class should have two methods: withdraw and deposit, which both act on an account object\n",
    "4. Create an ATM class\n",
    "    - The ATM class should have two initial methods\n",
    "        - log-in, which takes an account number\n",
    "        - register, which creates an account\n",
    "    - Once successfully logged in or registered, the user has should be able to do four things\n",
    "        1. Create a new account\n",
    "        2. Make a withdrawl\n",
    "        3. Make a deposit\n",
    "        4. Get their balance across all their accounts\n",
    "5. Create a customer class\n",
    "      - Stores the customers accounts\n",
    "      - Appends and updates accounts\n",
    "6. Write abstract base class where you feel they are appropriate\n",
    "\n",
    "When the user interacts with an ATM, this should be by means of an input. Up to now we called methods by providing parameters ourselves. Now we'll introduce variable parameters using the <code>input</code> function. See below for an example:"
   ]
  },
  {
   "cell_type": "code",
   "execution_count": 21,
   "metadata": {},
   "outputs": [
    {
     "name": "stdout",
     "output_type": "stream",
     "text": [
      "What is you favourite colour? Blue, Green or Red? Orange\n",
      "You chose an incorrect option. Please try again\n"
     ]
    }
   ],
   "source": [
    "user_input = input(\"What is you favourite colour? Blue, Green or Red? \")\n",
    "\n",
    "if user_input == \"Blue\":\n",
    "    print(\"You chose Blue\")\n",
    "elif user_input == \"Green\":\n",
    "    print(\"You chose Green\")\n",
    "elif user_input == \"Red\":\n",
    "    print(\"You chose Red\")\n",
    "else:\n",
    "    print(\"You chose an incorrect option. Please try again\")"
   ]
  },
  {
   "cell_type": "markdown",
   "metadata": {},
   "source": [
    "Using <code>input</code>, we can give the user the option to provide parameters. You should prompt the user twice\n",
    "\n",
    "  - Whether they would like to log-in or register\n",
    "  - What they would like to do once they are registered (see point 4)\n",
    "\n",
    "Using these prompts your program will decide which methods to call. To run your script you will thus have a simple main script or main method which simply executes these prompts and then calls the respective classes and methods as they are needed.\n",
    "\n",
    "The last section is optional, but highly recommended. \n",
    "\n",
    "Move your project from a notebook to your local machine and structure it appropriately. You should have a main script which simply imports the functionality you require. Once this is done, write unit tests where appropriate and call these tests from a test script."
   ]
  },
  {
   "cell_type": "code",
   "execution_count": 6,
   "metadata": {},
   "outputs": [],
   "source": [
    "Transaction_hist = [] #keep track of transactions, only account class accesses this\n",
    "\n",
    "class account():\n",
    "        \n",
    "    def __init__(self, name, accNo):\n",
    "        self.accNo = accNo\n",
    "        self.name = name\n",
    "    \n",
    "    def __str__(self):\n",
    "        return(\"Account balance is \" + 'R{:.2f}'.format(0))\n",
    "    \n",
    "    def withdraw(self, drawn_amount):\n",
    "        res = customer(self.name).get_cust_balance(self.accNo) #test if customer is customer in login(in ATM)\n",
    "        if res >= drawn_amount:\n",
    "            res_new = res - drawn_amount\n",
    "            Transaction_hist.append((self.name ,self.accNo, -drawn_amount, res_new)) #write to transcation_hist array\n",
    "            accounts_savings[(self.name.upper(),self.accNo)] = res_new #balance updated in saving accounts\n",
    "            print(\"Withdrawal successful, balance remaining: \" + 'R{:.2f}'.format(res_new))\n",
    "        else: \n",
    "            print(\"insufficient funds for withdrawal\")  \n",
    "            \n",
    "    def deposit(self, dep_amount):\n",
    "        res = customer(self.name).get_cust_balance(self.accNo) #test if is customer on login(in ATM)\n",
    "        res_new = res + dep_amount\n",
    "        Transaction_hist.append((self.name ,self.accNo, dep_amount, res_new)) #write deposit to transcation_hist array\n",
    "        accounts_savings[(self.name.upper(),self.accNo)] = res_new #balance updated in saving accounts\n",
    "        print(\"deposit successful, new balance: \" + 'R{:.2f}'.format(res_new))\n",
    "        \n",
    "    def get_balance(self):  #Calls function from customer class\n",
    "        res = customer(self.name).get_cust_balance(self.accNo)\n",
    "        if res is not None:\n",
    "            return('R{:.2f}'.format(res))\n",
    "        else:\n",
    "            return(res)"
   ]
  },
  {
   "cell_type": "code",
   "execution_count": null,
   "metadata": {},
   "outputs": [],
   "source": [
    "#TESTING account, cheque classes\n",
    "obj=cheque_account(\"Jack\", \"#101\")\n",
    "obj.get_balance()\n",
    "\n",
    "obj.withdraw(45)\n",
    "obj.deposit(55)\n",
    "Transaction_hist"
   ]
  },
  {
   "cell_type": "code",
   "execution_count": 7,
   "metadata": {},
   "outputs": [],
   "source": [
    "class cheque_account(account):\n",
    "    \n",
    "    account_type=\"Cheque account\"\n",
    "    \n",
    "    def __str__(self):\n",
    "        return(account.__str__(self) +\", Account type: \"+self.account_type)\n",
    "        \n",
    "class savings_account(account):\n",
    "    \n",
    "    account_type=\"Savings account\"\n",
    "        \n",
    "    def __str__(self):\n",
    "        return(account.__str__(self)+\", Account type: \"+self.account_type)"
   ]
  },
  {
   "cell_type": "code",
   "execution_count": 8,
   "metadata": {},
   "outputs": [],
   "source": [
    "accounts_savings={(\"JACK\",\"#101\"): 610, (\"JOHN\",\"#101\"): 412} #existing records showing how data is stored\n",
    "accounts_cheque={(\"JACK\",\"#210\"): 550, (\"JOHN\",\"#211\"): 650} #Different objects(accounts and customer) must be able to access these\n",
    "\n",
    "class customer():\n",
    "    def __init__(self, name):\n",
    "        self.name = name\n",
    "        \n",
    "    def get_cust_balance(self, accNo):  #Returns balance for a specific account no.\n",
    "        resAccBalance=None\n",
    "        for i,j in list(accounts_savings.keys()):\n",
    "            if (self.name.upper(), accNo) == (i,j):\n",
    "                resAccBalance = accounts_savings[(i,j)]\n",
    "                return(resAccBalance)\n",
    "                break       \n",
    "                \n",
    "        for i,j in list(accounts_cheque.keys()):\n",
    "            if (self.name.upper(), accNo) == (i,j):\n",
    "                resAccBalance = accounts_cheque[(i,j)]  \n",
    "                return(resAccBalance)\n",
    "                break \n",
    "        if resAccBalance == None:\n",
    "            print(\"No customer balance found for given Account No. and Name\")\n",
    "            return(resAccBalance)"
   ]
  },
  {
   "cell_type": "code",
   "execution_count": 79,
   "metadata": {},
   "outputs": [
    {
     "data": {
      "text/plain": [
       "610"
      ]
     },
     "execution_count": 79,
     "metadata": {},
     "output_type": "execute_result"
    }
   ],
   "source": [
    "#TESTING customer class\n",
    "obj=customer(\"JacK\")\n",
    "obj.get_cust_balance(\"#101\")"
   ]
  },
  {
   "cell_type": "code",
   "execution_count": 9,
   "metadata": {},
   "outputs": [
    {
     "name": "stdout",
     "output_type": "stream",
     "text": [
      "\n",
      "            1-Login\n",
      "            2-Register, create account\n",
      "            \n",
      "Please select option: 2\n",
      "Name: kus\n",
      "account type (i.e. Cheque/Savings): cheque\n",
      "Deposit amount: 678\n",
      "Cheque Account successfully created, balance is R678.00\n"
     ]
    }
   ],
   "source": [
    "import sys\n",
    "import random\n",
    "\n",
    "class ATM():\n",
    "    b=True\n",
    "    while b == True:\n",
    "        print('''\n",
    "            1-Login\n",
    "            2-Register, create account\n",
    "            ''')    \n",
    "        select = input('Please select option: ')\n",
    "    \n",
    "        if select=='1':\n",
    "            AccNo = input('Account Number: ')\n",
    "            name = input('Name: ')\n",
    "            name = name.upper()\n",
    "            res = customer(name).get_cust_balance(AccNo) #either None or an amount\n",
    "            if res == None:\n",
    "                print(\"If you are not existing customer please register, GoodBye!\") #if you entered details wrong, try again\n",
    "            else:\n",
    "                c=True\n",
    "                while c == True:\n",
    "                    print('''\n",
    "                         1-Make Deposit\n",
    "                         2-Make Withdrawal\n",
    "                         3-Get Balance\n",
    "                         ''')\n",
    "                    select = input('Please select an option: ')\n",
    "                    if select == '1':\n",
    "                        amount_dep = abs(int(input('Amount to deposit: '))) #if negative value give, assume positve\n",
    "                        account(name, AccNo).deposit(amount_dep)\n",
    "                        print(\"Please wait for card... Have a Good-day!!\")\n",
    "                        c=False\n",
    "                    elif select == '2': \n",
    "                        amount_drawn = abs(int(input('Amount to deposit: ')))\n",
    "                        account(name, AccNo).deposit(amount_drawn)\n",
    "                        print(\"Please wait for card... Have a Good-day!!\")\n",
    "                        c=False\n",
    "                    elif select == '3':\n",
    "                        found_res=account(name, AccNo).get_balance()\n",
    "                        print(\"Account Balance is: \" + found_res)\n",
    "                        print(\"Please wait for card... Have a Good-day!!\")\n",
    "                        c=False\n",
    "                    else:\n",
    "                        print('Error, please select 1, 2 or 3')\n",
    "            b=False\n",
    "        elif select=='2':\n",
    "            \n",
    "            d=True\n",
    "            name = input('Name: ')\n",
    "            name = name.upper()\n",
    "            \n",
    "            while d == True:\n",
    "                AccType = input('account type (i.e. Cheque/Savings): ')\n",
    "                \n",
    "                if AccType.upper() == \"CHEQUE\":\n",
    "                    Deposit = abs(int(input('Deposit amount: '))) #if negative value give, assume positve\n",
    "                    AccNo=random.randint(100, 300)\n",
    "                    AccNo=\"#\"+str(AccNo)\n",
    "                    accounts_cheque[(name,AccNo)] = Deposit\n",
    "                    print(\"Cheque Account successfully created, balance is \"+'R{:.2f}'.format(Deposit))\n",
    "                    d=False\n",
    "                elif AccType.upper() == \"SAVINGS\":\n",
    "                    Deposit = abs(int(input('Deposit amount: '))) #if negative value give, assume positve\n",
    "                    AccNo=random.randint(100, 300)\n",
    "                    AccNo=\"#\"+str(AccNo)\n",
    "                    accounts_savings[(name,AccNo)] = Deposit\n",
    "                    print(\"Savings Account successfully created, balance is \"+'R{:.2f}'.format(Deposit))\n",
    "                    d=False\n",
    "                else:\n",
    "                    print(\"Error, please choose Cheque or Savings\")\n",
    "            b=False\n",
    "        else:\n",
    "            print('Error, please select 1 or 2')"
   ]
  },
  {
   "cell_type": "code",
   "execution_count": null,
   "metadata": {},
   "outputs": [],
   "source": [
    "store_customers = [] #to store customer information,when customer is created. Not inside class cause must be accessible to different bank instances\n",
    "\n",
    "class bank():\n",
    "    def __init__(self, name, ID, cell_no): #class bank is called to initialise customer details\n",
    "        self.name=name\n",
    "        self.ID=ID\n",
    "        self.cell_no=cell_no\n",
    "    def create_customer(self): #creating customer    \n",
    "        a=True\n",
    "        while a==True:\n",
    "            store_customers.append(name, ID, cell_no)\n",
    "            question=input(\"Do you want to register an account? YES/NO :\")\n",
    "            if question.upper()==\"YES\":\n",
    "                ATM()\n",
    "                a=False\n",
    "            elif question.upper()==\"NO\":\n",
    "                print(\"Please register when you can by calling the ATM call...GoodBye!!\")\n",
    "                a=False\n",
    "            else:\n",
    "                print(\"error, please choose YES or NO\")"
   ]
  },
  {
   "cell_type": "code",
   "execution_count": null,
   "metadata": {},
   "outputs": [],
   "source": [
    "#TESTING bank class\n",
    "c"
   ]
  },
  {
   "cell_type": "code",
   "execution_count": null,
   "metadata": {},
   "outputs": [],
   "source": [
    "#////////////////////////////TESTING BLOCK////////////////////////////////////#\n",
    "accounts_savings={(\"JACK\",\"#101\"): 610, (\"JOHN\",\"#101\"): 412}\n",
    "accounts_cheque={(\"JACK\",\"#210\"): 550, (\"JOHN\",\"#211\"): 650}\n",
    "\n",
    "accounts_savings[(\"KUS\",\"#120\")] = 400\n",
    "accounts_savings[(\"KUS\",\"#120\")] = 2450\n",
    "\n",
    "def get_cust_balance(name ,accNo):  #Returns balance for a specific account no.\n",
    "        resAccBalance=None\n",
    "        for i,j in list(accounts_savings.keys()):\n",
    "            if (name.upper(), accNo) == (i,j):\n",
    "                resAccBalance = 'R{:.2f}'.format(self.accounts_savings[(i,j)])\n",
    "                return(resAccBalance)\n",
    "                break       \n",
    "                \n",
    "        for i,j in list(accounts_cheque.keys()):\n",
    "            if (name.upper(), accNo) == (i,j):\n",
    "                resAccBalance = 'R{:.2f}'.format(accounts_cheque[(i,j)])  \n",
    "                return(resAccBalance)\n",
    "                break \n",
    "        if resAccBalance == None:\n",
    "            print(\"No customer balance found for given Account No.\")  \n",
    "                                                 \n",
    "res1=get_cust_balance(\"ks\", \"#120\") "
   ]
  }
 ],
 "metadata": {
  "kernelspec": {
   "display_name": "Python 3",
   "language": "python",
   "name": "python3"
  },
  "language_info": {
   "codemirror_mode": {
    "name": "ipython",
    "version": 3
   },
   "file_extension": ".py",
   "mimetype": "text/x-python",
   "name": "python",
   "nbconvert_exporter": "python",
   "pygments_lexer": "ipython3",
   "version": "3.6.5"
  }
 },
 "nbformat": 4,
 "nbformat_minor": 2
}
